{
 "cells": [
  {
   "cell_type": "markdown",
   "metadata": {
    "id": "AQ8B5oeGTcmV"
   },
   "source": [
    "In this activity, we're going to focus our attention in how it change a linear model based on the data splitting."
   ]
  },
  {
   "cell_type": "markdown",
   "metadata": {
    "id": "h4G-eG_b0nrm"
   },
   "source": [
    "# Linear regression\n"
   ]
  },
  {
   "cell_type": "code",
   "execution_count": 1,
   "metadata": {
    "id": "GfRdG0e00nro"
   },
   "outputs": [],
   "source": [
    "#libraries\n",
    "import matplotlib.pyplot as plt # import matplotlib to plot the data\n",
    "from matplotlib.collections import LineCollection # import LineCollection to plot the data as a line\n",
    "%matplotlib inline # show plots inline\n",
    "import seaborn as sns # import seaborn to plot the data\n",
    "import pandas as pd # dataframe manipulation\n",
    "import numpy as np # array manipulation\n",
    "from ipywidgets import interactive # import interactive widgets to interact with the data\n",
    "import ipywidgets as widgets # import widgets to interact with the data"
   ]
  },
  {
   "cell_type": "markdown",
   "metadata": {
    "id": "ljAqNf3RVgLo"
   },
   "source": [
    "## Loading data"
   ]
  },
  {
   "cell_type": "markdown",
   "metadata": {
    "id": "jbDPupd8VlQ-"
   },
   "source": [
    "Let's work with a new toy dataset. \n",
    "\n",
    "\n"
   ]
  },
  {
   "cell_type": "code",
   "execution_count": 2,
   "metadata": {
    "colab": {
     "base_uri": "https://localhost:8080/",
     "height": 205
    },
    "id": "DvRtSKyEorpk",
    "outputId": "b11d152f-914c-401a-c869-6daa0f1a06d7"
   },
   "outputs": [
    {
     "data": {
      "text/html": [
       "<div>\n",
       "<style scoped>\n",
       "    .dataframe tbody tr th:only-of-type {\n",
       "        vertical-align: middle;\n",
       "    }\n",
       "\n",
       "    .dataframe tbody tr th {\n",
       "        vertical-align: top;\n",
       "    }\n",
       "\n",
       "    .dataframe thead th {\n",
       "        text-align: right;\n",
       "    }\n",
       "</style>\n",
       "<table border=\"1\" class=\"dataframe\">\n",
       "  <thead>\n",
       "    <tr style=\"text-align: right;\">\n",
       "      <th></th>\n",
       "      <th>age</th>\n",
       "      <th>sex</th>\n",
       "      <th>bmi</th>\n",
       "      <th>children</th>\n",
       "      <th>smoker</th>\n",
       "      <th>region</th>\n",
       "      <th>charges</th>\n",
       "    </tr>\n",
       "  </thead>\n",
       "  <tbody>\n",
       "    <tr>\n",
       "      <th>0</th>\n",
       "      <td>19</td>\n",
       "      <td>female</td>\n",
       "      <td>27.900</td>\n",
       "      <td>0</td>\n",
       "      <td>yes</td>\n",
       "      <td>southwest</td>\n",
       "      <td>16884.92400</td>\n",
       "    </tr>\n",
       "    <tr>\n",
       "      <th>1</th>\n",
       "      <td>18</td>\n",
       "      <td>male</td>\n",
       "      <td>33.770</td>\n",
       "      <td>1</td>\n",
       "      <td>no</td>\n",
       "      <td>southeast</td>\n",
       "      <td>1725.55230</td>\n",
       "    </tr>\n",
       "    <tr>\n",
       "      <th>2</th>\n",
       "      <td>28</td>\n",
       "      <td>male</td>\n",
       "      <td>33.000</td>\n",
       "      <td>3</td>\n",
       "      <td>no</td>\n",
       "      <td>southeast</td>\n",
       "      <td>4449.46200</td>\n",
       "    </tr>\n",
       "    <tr>\n",
       "      <th>3</th>\n",
       "      <td>33</td>\n",
       "      <td>male</td>\n",
       "      <td>22.705</td>\n",
       "      <td>0</td>\n",
       "      <td>no</td>\n",
       "      <td>northwest</td>\n",
       "      <td>21984.47061</td>\n",
       "    </tr>\n",
       "    <tr>\n",
       "      <th>4</th>\n",
       "      <td>32</td>\n",
       "      <td>male</td>\n",
       "      <td>28.880</td>\n",
       "      <td>0</td>\n",
       "      <td>no</td>\n",
       "      <td>northwest</td>\n",
       "      <td>3866.85520</td>\n",
       "    </tr>\n",
       "  </tbody>\n",
       "</table>\n",
       "</div>"
      ],
      "text/plain": [
       "   age     sex     bmi  children smoker     region      charges\n",
       "0   19  female  27.900         0    yes  southwest  16884.92400\n",
       "1   18    male  33.770         1     no  southeast   1725.55230\n",
       "2   28    male  33.000         3     no  southeast   4449.46200\n",
       "3   33    male  22.705         0     no  northwest  21984.47061\n",
       "4   32    male  28.880         0     no  northwest   3866.85520"
      ]
     },
     "execution_count": 2,
     "metadata": {},
     "output_type": "execute_result"
    }
   ],
   "source": [
    "data = pd.read_csv(\"data/insurance.csv\") # read the data in the csv file\n",
    "data.head() # show the first 5 rows of the data"
   ]
  },
  {
   "cell_type": "markdown",
   "metadata": {
    "id": "byhEuX2UpALz"
   },
   "source": [
    "In this case, we will try to predict the column `charges` based on the other columns"
   ]
  },
  {
   "cell_type": "markdown",
   "metadata": {
    "id": "T__a943So5dt"
   },
   "source": [
    "# Data exploration"
   ]
  },
  {
   "cell_type": "markdown",
   "metadata": {
    "id": "-y5JkK9Mo-Er"
   },
   "source": [
    "Let's do some basic exploration"
   ]
  },
  {
   "cell_type": "code",
   "execution_count": 3,
   "metadata": {
    "colab": {
     "base_uri": "https://localhost:8080/"
    },
    "id": "gUzDIn4_pRUf",
    "outputId": "0cb5249c-db0d-4782-e9f8-8cb5e992872f"
   },
   "outputs": [
    {
     "name": "stdout",
     "output_type": "stream",
     "text": [
      "<class 'pandas.core.frame.DataFrame'>\n",
      "RangeIndex: 1338 entries, 0 to 1337\n",
      "Data columns (total 7 columns):\n",
      " #   Column    Non-Null Count  Dtype  \n",
      "---  ------    --------------  -----  \n",
      " 0   age       1338 non-null   int64  \n",
      " 1   sex       1338 non-null   object \n",
      " 2   bmi       1338 non-null   float64\n",
      " 3   children  1338 non-null   int64  \n",
      " 4   smoker    1338 non-null   object \n",
      " 5   region    1338 non-null   object \n",
      " 6   charges   1338 non-null   float64\n",
      "dtypes: float64(2), int64(2), object(3)\n",
      "memory usage: 73.3+ KB\n"
     ]
    }
   ],
   "source": [
    "data.info() # show the data information (number of rows, columns, data types, etc.)"
   ]
  },
  {
   "cell_type": "markdown",
   "metadata": {
    "id": "JRCUjZv-pVsO"
   },
   "source": [
    "As expected, three columns of the dataset are categorical:\n",
    "\n",
    "* sex\n",
    "* smoker\n",
    "* region\n",
    "\n",
    "Even more, all of them are nominal categorical, ie: there is no intrinsic order in their values.\n"
   ]
  },
  {
   "cell_type": "code",
   "execution_count": 4,
   "metadata": {
    "colab": {
     "base_uri": "https://localhost:8080/"
    },
    "id": "HAEtoHxGrXFZ",
    "outputId": "39863e7c-a0a6-4e91-b342-6a441dc16ab3"
   },
   "outputs": [
    {
     "data": {
      "text/plain": [
       "age         0\n",
       "sex         0\n",
       "bmi         0\n",
       "children    0\n",
       "smoker      0\n",
       "region      0\n",
       "charges     0\n",
       "dtype: int64"
      ]
     },
     "execution_count": 4,
     "metadata": {},
     "output_type": "execute_result"
    }
   ],
   "source": [
    "data.isna().sum() # show the number of missing values in each column"
   ]
  },
  {
   "cell_type": "code",
   "execution_count": 5,
   "metadata": {
    "colab": {
     "base_uri": "https://localhost:8080/",
     "height": 299
    },
    "id": "_w9MB7HRrb-p",
    "outputId": "d4ca9239-560e-483c-8b0d-3570a67ec138"
   },
   "outputs": [
    {
     "data": {
      "text/html": [
       "<div>\n",
       "<style scoped>\n",
       "    .dataframe tbody tr th:only-of-type {\n",
       "        vertical-align: middle;\n",
       "    }\n",
       "\n",
       "    .dataframe tbody tr th {\n",
       "        vertical-align: top;\n",
       "    }\n",
       "\n",
       "    .dataframe thead th {\n",
       "        text-align: right;\n",
       "    }\n",
       "</style>\n",
       "<table border=\"1\" class=\"dataframe\">\n",
       "  <thead>\n",
       "    <tr style=\"text-align: right;\">\n",
       "      <th></th>\n",
       "      <th>age</th>\n",
       "      <th>bmi</th>\n",
       "      <th>children</th>\n",
       "      <th>charges</th>\n",
       "    </tr>\n",
       "  </thead>\n",
       "  <tbody>\n",
       "    <tr>\n",
       "      <th>count</th>\n",
       "      <td>1338.000000</td>\n",
       "      <td>1338.000000</td>\n",
       "      <td>1338.000000</td>\n",
       "      <td>1338.000000</td>\n",
       "    </tr>\n",
       "    <tr>\n",
       "      <th>mean</th>\n",
       "      <td>39.207025</td>\n",
       "      <td>30.663397</td>\n",
       "      <td>1.094918</td>\n",
       "      <td>13270.422265</td>\n",
       "    </tr>\n",
       "    <tr>\n",
       "      <th>std</th>\n",
       "      <td>14.049960</td>\n",
       "      <td>6.098187</td>\n",
       "      <td>1.205493</td>\n",
       "      <td>12110.011237</td>\n",
       "    </tr>\n",
       "    <tr>\n",
       "      <th>min</th>\n",
       "      <td>18.000000</td>\n",
       "      <td>15.960000</td>\n",
       "      <td>0.000000</td>\n",
       "      <td>1121.873900</td>\n",
       "    </tr>\n",
       "    <tr>\n",
       "      <th>25%</th>\n",
       "      <td>27.000000</td>\n",
       "      <td>26.296250</td>\n",
       "      <td>0.000000</td>\n",
       "      <td>4740.287150</td>\n",
       "    </tr>\n",
       "    <tr>\n",
       "      <th>50%</th>\n",
       "      <td>39.000000</td>\n",
       "      <td>30.400000</td>\n",
       "      <td>1.000000</td>\n",
       "      <td>9382.033000</td>\n",
       "    </tr>\n",
       "    <tr>\n",
       "      <th>75%</th>\n",
       "      <td>51.000000</td>\n",
       "      <td>34.693750</td>\n",
       "      <td>2.000000</td>\n",
       "      <td>16639.912515</td>\n",
       "    </tr>\n",
       "    <tr>\n",
       "      <th>max</th>\n",
       "      <td>64.000000</td>\n",
       "      <td>53.130000</td>\n",
       "      <td>5.000000</td>\n",
       "      <td>63770.428010</td>\n",
       "    </tr>\n",
       "  </tbody>\n",
       "</table>\n",
       "</div>"
      ],
      "text/plain": [
       "               age          bmi     children       charges\n",
       "count  1338.000000  1338.000000  1338.000000   1338.000000\n",
       "mean     39.207025    30.663397     1.094918  13270.422265\n",
       "std      14.049960     6.098187     1.205493  12110.011237\n",
       "min      18.000000    15.960000     0.000000   1121.873900\n",
       "25%      27.000000    26.296250     0.000000   4740.287150\n",
       "50%      39.000000    30.400000     1.000000   9382.033000\n",
       "75%      51.000000    34.693750     2.000000  16639.912515\n",
       "max      64.000000    53.130000     5.000000  63770.428010"
      ]
     },
     "execution_count": 5,
     "metadata": {},
     "output_type": "execute_result"
    }
   ],
   "source": [
    "data.describe() # show the mean, standard deviation, min, max, etc. of each column"
   ]
  },
  {
   "cell_type": "code",
   "execution_count": 6,
   "metadata": {
    "colab": {
     "base_uri": "https://localhost:8080/"
    },
    "id": "GqxC92Evrgvk",
    "outputId": "bd0b334b-ee00-4190-b3b3-1c167434ea76"
   },
   "outputs": [
    {
     "data": {
      "text/plain": [
       "male      676\n",
       "female    662\n",
       "Name: sex, dtype: int64"
      ]
     },
     "execution_count": 6,
     "metadata": {},
     "output_type": "execute_result"
    }
   ],
   "source": [
    "data['sex'].value_counts() # Return a Series containing counts of unique values. (descending order so that the first element is the most frequently-occurring)"
   ]
  },
  {
   "cell_type": "code",
   "execution_count": 7,
   "metadata": {
    "colab": {
     "base_uri": "https://localhost:8080/"
    },
    "id": "tOC-opjoroFA",
    "outputId": "5069c8f3-463a-4f91-da95-9e2bff6178d1"
   },
   "outputs": [
    {
     "data": {
      "text/plain": [
       "no     1064\n",
       "yes     274\n",
       "Name: smoker, dtype: int64"
      ]
     },
     "execution_count": 7,
     "metadata": {},
     "output_type": "execute_result"
    }
   ],
   "source": [
    "data['smoker'].value_counts() # Return a Series containing counts of unique values. (descending order so that the first element is the most frequently-occurring)"
   ]
  },
  {
   "cell_type": "code",
   "execution_count": 8,
   "metadata": {
    "colab": {
     "base_uri": "https://localhost:8080/"
    },
    "id": "ujoU-jzCrvIn",
    "outputId": "cc0c7cc7-acaf-437a-f233-b0ae97d16ac2"
   },
   "outputs": [
    {
     "data": {
      "text/plain": [
       "southeast    364\n",
       "northwest    325\n",
       "southwest    325\n",
       "northeast    324\n",
       "Name: region, dtype: int64"
      ]
     },
     "execution_count": 8,
     "metadata": {},
     "output_type": "execute_result"
    }
   ],
   "source": [
    "data['region'].value_counts() # Return a Series containing counts of unique values. (descending order so that the first element is the most frequently-occurring)"
   ]
  },
  {
   "cell_type": "markdown",
   "metadata": {
    "id": "Wq8965Z2qWdr"
   },
   "source": [
    "### Sex"
   ]
  },
  {
   "cell_type": "markdown",
   "metadata": {
    "id": "d49nBYXAqjz6"
   },
   "source": [
    "First, in order to be safe let's check the possible values."
   ]
  },
  {
   "cell_type": "code",
   "execution_count": 9,
   "metadata": {
    "colab": {
     "base_uri": "https://localhost:8080/"
    },
    "id": "ajM7lNK4qoEv",
    "outputId": "f100e32e-9ebd-409e-d850-dab4fa5f6d68"
   },
   "outputs": [
    {
     "data": {
      "text/plain": [
       "array(['female', 'male'], dtype=object)"
      ]
     },
     "execution_count": 9,
     "metadata": {},
     "output_type": "execute_result"
    }
   ],
   "source": [
    "data['sex'].unique() # Return unique values of Series object.(order of appearance)"
   ]
  },
  {
   "cell_type": "code",
   "execution_count": 10,
   "metadata": {
    "colab": {
     "base_uri": "https://localhost:8080/",
     "height": 280
    },
    "id": "rXLRWnEQr85G",
    "outputId": "c4464cac-add1-4bc6-9e5e-7851315b088f"
   },
   "outputs": [
    {
     "data": {
      "image/png": "[encoded data removed]",
      "text/plain": [
       "<Figure size 432x288 with 1 Axes>"
      ]
     },
     "metadata": {
      "needs_background": "light"
     },
     "output_type": "display_data"
    }
   ],
   "source": [
    "sns.countplot(data=data, x = 'sex'); # Show the counts of observations in each categorical bin using bars.(Dataset for plotting, x-axis variable) "
   ]
  },
  {
   "cell_type": "markdown",
   "metadata": {
    "id": "yys77sujsCfP"
   },
   "source": [
    "Good, we have almost the same value of customers of gender."
   ]
  },
  {
   "cell_type": "markdown",
   "metadata": {
    "id": "WBd6caOkq2ib"
   },
   "source": [
    "Let's assume that those gender are the only possible values. If that's not the case, we can include another label for those non covered genders. However be aware that the model will not be able to make predictions for those genders are they are not in the dataset."
   ]
  },
  {
   "cell_type": "markdown",
   "metadata": {
    "id": "GEcn0q_Msek2"
   },
   "source": [
    "**Remember that linear models can't handle labels, they need numbers**. Therefore we need to convert those labels to numbers. The actual values doesn't matter here because there is no order. However, linear models give more weight to higher values. Therefore we need to convert those labels to boolean data."
   ]
  },
  {
   "cell_type": "code",
   "execution_count": 11,
   "metadata": {
    "colab": {
     "base_uri": "https://localhost:8080/",
     "height": 205
    },
    "id": "POvHpMYyqYFx",
    "outputId": "2e009130-b855-49b1-a38a-5d5d52a2f446"
   },
   "outputs": [
    {
     "data": {
      "text/html": [
       "<div>\n",
       "<style scoped>\n",
       "    .dataframe tbody tr th:only-of-type {\n",
       "        vertical-align: middle;\n",
       "    }\n",
       "\n",
       "    .dataframe tbody tr th {\n",
       "        vertical-align: top;\n",
       "    }\n",
       "\n",
       "    .dataframe thead th {\n",
       "        text-align: right;\n",
       "    }\n",
       "</style>\n",
       "<table border=\"1\" class=\"dataframe\">\n",
       "  <thead>\n",
       "    <tr style=\"text-align: right;\">\n",
       "      <th></th>\n",
       "      <th>age</th>\n",
       "      <th>sex</th>\n",
       "      <th>bmi</th>\n",
       "      <th>children</th>\n",
       "      <th>smoker</th>\n",
       "      <th>region</th>\n",
       "      <th>charges</th>\n",
       "    </tr>\n",
       "  </thead>\n",
       "  <tbody>\n",
       "    <tr>\n",
       "      <th>0</th>\n",
       "      <td>19</td>\n",
       "      <td>0</td>\n",
       "      <td>27.900</td>\n",
       "      <td>0</td>\n",
       "      <td>yes</td>\n",
       "      <td>southwest</td>\n",
       "      <td>16884.92400</td>\n",
       "    </tr>\n",
       "    <tr>\n",
       "      <th>1</th>\n",
       "      <td>18</td>\n",
       "      <td>1</td>\n",
       "      <td>33.770</td>\n",
       "      <td>1</td>\n",
       "      <td>no</td>\n",
       "      <td>southeast</td>\n",
       "      <td>1725.55230</td>\n",
       "    </tr>\n",
       "    <tr>\n",
       "      <th>2</th>\n",
       "      <td>28</td>\n",
       "      <td>1</td>\n",
       "      <td>33.000</td>\n",
       "      <td>3</td>\n",
       "      <td>no</td>\n",
       "      <td>southeast</td>\n",
       "      <td>4449.46200</td>\n",
       "    </tr>\n",
       "    <tr>\n",
       "      <th>3</th>\n",
       "      <td>33</td>\n",
       "      <td>1</td>\n",
       "      <td>22.705</td>\n",
       "      <td>0</td>\n",
       "      <td>no</td>\n",
       "      <td>northwest</td>\n",
       "      <td>21984.47061</td>\n",
       "    </tr>\n",
       "    <tr>\n",
       "      <th>4</th>\n",
       "      <td>32</td>\n",
       "      <td>1</td>\n",
       "      <td>28.880</td>\n",
       "      <td>0</td>\n",
       "      <td>no</td>\n",
       "      <td>northwest</td>\n",
       "      <td>3866.85520</td>\n",
       "    </tr>\n",
       "  </tbody>\n",
       "</table>\n",
       "</div>"
      ],
      "text/plain": [
       "   age  sex     bmi  children smoker     region      charges\n",
       "0   19    0  27.900         0    yes  southwest  16884.92400\n",
       "1   18    1  33.770         1     no  southeast   1725.55230\n",
       "2   28    1  33.000         3     no  southeast   4449.46200\n",
       "3   33    1  22.705         0     no  northwest  21984.47061\n",
       "4   32    1  28.880         0     no  northwest   3866.85520"
      ]
     },
     "execution_count": 11,
     "metadata": {},
     "output_type": "execute_result"
    }
   ],
   "source": [
    "data['sex'] = data['sex'].replace({'male': 1, 'female': 0}) # replace male for 1 amd female for 0 to convert these labels into boolean data\n",
    "data.head() # show the first 5 rows of the data"
   ]
  },
  {
   "cell_type": "markdown",
   "metadata": {
    "id": "7u1f57IqrMUa"
   },
   "source": [
    "### Smoker"
   ]
  },
  {
   "cell_type": "markdown",
   "metadata": {
    "id": "fEDY1Mu0rPcy"
   },
   "source": [
    "Now it's time to inspect the variable `smoker`"
   ]
  },
  {
   "cell_type": "code",
   "execution_count": 12,
   "metadata": {
    "colab": {
     "base_uri": "https://localhost:8080/"
    },
    "id": "aqj2Jqchsz2s",
    "outputId": "91596bac-8e6e-407f-c992-700a3e59806a"
   },
   "outputs": [
    {
     "data": {
      "text/plain": [
       "array(['yes', 'no'], dtype=object)"
      ]
     },
     "execution_count": 12,
     "metadata": {},
     "output_type": "execute_result"
    }
   ],
   "source": [
    "data['smoker'].unique() # Return unique values of Series object.(order of appearance)"
   ]
  },
  {
   "cell_type": "code",
   "execution_count": 13,
   "metadata": {
    "colab": {
     "base_uri": "https://localhost:8080/",
     "height": 279
    },
    "id": "uDZoBFO5s5fq",
    "outputId": "4ce4c38d-0236-4c51-d29a-eabdc490a4e9"
   },
   "outputs": [
    {
     "data": {
      "image/png": "[encoded data removed]",
      "text/plain": [
       "<Figure size 432x288 with 1 Axes>"
      ]
     },
     "metadata": {
      "needs_background": "light"
     },
     "output_type": "display_data"
    }
   ],
   "source": [
    "sns.countplot(data=data, x = 'smoker'); # Show the counts of observations in each categorical bin using bars.(Dataset for plotting, x-axis variable) "
   ]
  },
  {
   "cell_type": "markdown",
   "metadata": {
    "id": "53dNky1ktE0y"
   },
   "source": [
    "This is a very bad thing. The dataset doesn't contain the roughly the same amount of non-smokers than smokers. Why this is a problem? Becasue the model will have more examples of non-smokers than smokers, and therefore it will be better in predicting `non-smokers`.\n",
    "Therefore we can expect the model to make more mistakes for `smoker` customers. \n",
    "\n",
    "This problem is called `class imbalance` and there are several techniques available to tackle this problem that will be covered later in the course.\n",
    "\n",
    "For now, let's ignore this problem and convert those values to numbers."
   ]
  },
  {
   "cell_type": "code",
   "execution_count": 14,
   "metadata": {
    "colab": {
     "base_uri": "https://localhost:8080/",
     "height": 205
    },
    "id": "yYbx9ZGDuWzK",
    "outputId": "1ce1f85a-9778-46f8-dfb7-74e4a1112a3e"
   },
   "outputs": [
    {
     "data": {
      "text/html": [
       "<div>\n",
       "<style scoped>\n",
       "    .dataframe tbody tr th:only-of-type {\n",
       "        vertical-align: middle;\n",
       "    }\n",
       "\n",
       "    .dataframe tbody tr th {\n",
       "        vertical-align: top;\n",
       "    }\n",
       "\n",
       "    .dataframe thead th {\n",
       "        text-align: right;\n",
       "    }\n",
       "</style>\n",
       "<table border=\"1\" class=\"dataframe\">\n",
       "  <thead>\n",
       "    <tr style=\"text-align: right;\">\n",
       "      <th></th>\n",
       "      <th>age</th>\n",
       "      <th>sex</th>\n",
       "      <th>bmi</th>\n",
       "      <th>children</th>\n",
       "      <th>smoker</th>\n",
       "      <th>region</th>\n",
       "      <th>charges</th>\n",
       "    </tr>\n",
       "  </thead>\n",
       "  <tbody>\n",
       "    <tr>\n",
       "      <th>0</th>\n",
       "      <td>19</td>\n",
       "      <td>0</td>\n",
       "      <td>27.900</td>\n",
       "      <td>0</td>\n",
       "      <td>1</td>\n",
       "      <td>southwest</td>\n",
       "      <td>16884.92400</td>\n",
       "    </tr>\n",
       "    <tr>\n",
       "      <th>1</th>\n",
       "      <td>18</td>\n",
       "      <td>1</td>\n",
       "      <td>33.770</td>\n",
       "      <td>1</td>\n",
       "      <td>0</td>\n",
       "      <td>southeast</td>\n",
       "      <td>1725.55230</td>\n",
       "    </tr>\n",
       "    <tr>\n",
       "      <th>2</th>\n",
       "      <td>28</td>\n",
       "      <td>1</td>\n",
       "      <td>33.000</td>\n",
       "      <td>3</td>\n",
       "      <td>0</td>\n",
       "      <td>southeast</td>\n",
       "      <td>4449.46200</td>\n",
       "    </tr>\n",
       "    <tr>\n",
       "      <th>3</th>\n",
       "      <td>33</td>\n",
       "      <td>1</td>\n",
       "      <td>22.705</td>\n",
       "      <td>0</td>\n",
       "      <td>0</td>\n",
       "      <td>northwest</td>\n",
       "      <td>21984.47061</td>\n",
       "    </tr>\n",
       "    <tr>\n",
       "      <th>4</th>\n",
       "      <td>32</td>\n",
       "      <td>1</td>\n",
       "      <td>28.880</td>\n",
       "      <td>0</td>\n",
       "      <td>0</td>\n",
       "      <td>northwest</td>\n",
       "      <td>3866.85520</td>\n",
       "    </tr>\n",
       "  </tbody>\n",
       "</table>\n",
       "</div>"
      ],
      "text/plain": [
       "   age  sex     bmi  children  smoker     region      charges\n",
       "0   19    0  27.900         0       1  southwest  16884.92400\n",
       "1   18    1  33.770         1       0  southeast   1725.55230\n",
       "2   28    1  33.000         3       0  southeast   4449.46200\n",
       "3   33    1  22.705         0       0  northwest  21984.47061\n",
       "4   32    1  28.880         0       0  northwest   3866.85520"
      ]
     },
     "execution_count": 14,
     "metadata": {},
     "output_type": "execute_result"
    }
   ],
   "source": [
    "data['smoker'] = data['smoker'].replace({'yes':1, 'no': 0})  # replace yes for 1 amd no for 0 to convert these labels into boolean data\n",
    "data.head() # show the first 5 rows of the data"
   ]
  },
  {
   "cell_type": "markdown",
   "metadata": {
    "id": "ZbmjGepEulCx"
   },
   "source": [
    "### Region"
   ]
  },
  {
   "cell_type": "markdown",
   "metadata": {
    "id": "-UTHiG90umqT"
   },
   "source": [
    "Again let's start with some basic exploration."
   ]
  },
  {
   "cell_type": "code",
   "execution_count": 15,
   "metadata": {
    "colab": {
     "base_uri": "https://localhost:8080/"
    },
    "id": "7VIPxLVYushG",
    "outputId": "2b183633-8982-4157-adde-a1f068543b76"
   },
   "outputs": [
    {
     "data": {
      "text/plain": [
       "array(['southwest', 'southeast', 'northwest', 'northeast'], dtype=object)"
      ]
     },
     "execution_count": 15,
     "metadata": {},
     "output_type": "execute_result"
    }
   ],
   "source": [
    "data['region'].unique() # Return unique values of Series object.(order of appearance)"
   ]
  },
  {
   "cell_type": "code",
   "execution_count": 16,
   "metadata": {
    "colab": {
     "base_uri": "https://localhost:8080/",
     "height": 279
    },
    "id": "s0v6JNqNuzh6",
    "outputId": "84f9ac4e-bfce-4721-8846-d6fc9089582f"
   },
   "outputs": [
    {
     "data": {
      "image/png": "[encoded data removed]",
      "text/plain": [
       "<Figure size 432x288 with 1 Axes>"
      ]
     },
     "metadata": {
      "needs_background": "light"
     },
     "output_type": "display_data"
    }
   ],
   "source": [
    "sns.countplot(data=data, x = 'region'); # Show the counts of observations in each categorical bin using bars.(Dataset for plotting, x-axis variable) "
   ]
  },
  {
   "cell_type": "markdown",
   "metadata": {
    "id": "47O7NVKBu28p"
   },
   "source": [
    "Here we don't have the same problem as we have for variable `smoker` as we have roghly the same amount of customers in every region.\n",
    "\n",
    "In clear contrast with variables `sex` and `somker`, the possible values for this variable is bigger than two. Therefore, we can't simply use two values. The solution to this is to create one additional column for each possible value of this variable. Then the values in the column will be either 0 or 1. "
   ]
  },
  {
   "cell_type": "code",
   "execution_count": 17,
   "metadata": {
    "colab": {
     "base_uri": "https://localhost:8080/",
     "height": 422
    },
    "id": "2uNxTRnlwK4n",
    "outputId": "ddc4437d-c81e-44c6-d50f-802f0e693195"
   },
   "outputs": [
    {
     "data": {
      "text/html": [
       "<div>\n",
       "<style scoped>\n",
       "    .dataframe tbody tr th:only-of-type {\n",
       "        vertical-align: middle;\n",
       "    }\n",
       "\n",
       "    .dataframe tbody tr th {\n",
       "        vertical-align: top;\n",
       "    }\n",
       "\n",
       "    .dataframe thead th {\n",
       "        text-align: right;\n",
       "    }\n",
       "</style>\n",
       "<table border=\"1\" class=\"dataframe\">\n",
       "  <thead>\n",
       "    <tr style=\"text-align: right;\">\n",
       "      <th></th>\n",
       "      <th>northeast</th>\n",
       "      <th>northwest</th>\n",
       "      <th>southeast</th>\n",
       "      <th>southwest</th>\n",
       "    </tr>\n",
       "  </thead>\n",
       "  <tbody>\n",
       "    <tr>\n",
       "      <th>0</th>\n",
       "      <td>0</td>\n",
       "      <td>0</td>\n",
       "      <td>0</td>\n",
       "      <td>1</td>\n",
       "    </tr>\n",
       "    <tr>\n",
       "      <th>1</th>\n",
       "      <td>0</td>\n",
       "      <td>0</td>\n",
       "      <td>1</td>\n",
       "      <td>0</td>\n",
       "    </tr>\n",
       "    <tr>\n",
       "      <th>2</th>\n",
       "      <td>0</td>\n",
       "      <td>0</td>\n",
       "      <td>1</td>\n",
       "      <td>0</td>\n",
       "    </tr>\n",
       "    <tr>\n",
       "      <th>3</th>\n",
       "      <td>0</td>\n",
       "      <td>1</td>\n",
       "      <td>0</td>\n",
       "      <td>0</td>\n",
       "    </tr>\n",
       "    <tr>\n",
       "      <th>4</th>\n",
       "      <td>0</td>\n",
       "      <td>1</td>\n",
       "      <td>0</td>\n",
       "      <td>0</td>\n",
       "    </tr>\n",
       "    <tr>\n",
       "      <th>...</th>\n",
       "      <td>...</td>\n",
       "      <td>...</td>\n",
       "      <td>...</td>\n",
       "      <td>...</td>\n",
       "    </tr>\n",
       "    <tr>\n",
       "      <th>1333</th>\n",
       "      <td>0</td>\n",
       "      <td>1</td>\n",
       "      <td>0</td>\n",
       "      <td>0</td>\n",
       "    </tr>\n",
       "    <tr>\n",
       "      <th>1334</th>\n",
       "      <td>1</td>\n",
       "      <td>0</td>\n",
       "      <td>0</td>\n",
       "      <td>0</td>\n",
       "    </tr>\n",
       "    <tr>\n",
       "      <th>1335</th>\n",
       "      <td>0</td>\n",
       "      <td>0</td>\n",
       "      <td>1</td>\n",
       "      <td>0</td>\n",
       "    </tr>\n",
       "    <tr>\n",
       "      <th>1336</th>\n",
       "      <td>0</td>\n",
       "      <td>0</td>\n",
       "      <td>0</td>\n",
       "      <td>1</td>\n",
       "    </tr>\n",
       "    <tr>\n",
       "      <th>1337</th>\n",
       "      <td>0</td>\n",
       "      <td>1</td>\n",
       "      <td>0</td>\n",
       "      <td>0</td>\n",
       "    </tr>\n",
       "  </tbody>\n",
       "</table>\n",
       "<p>1338 rows × 4 columns</p>\n",
       "</div>"
      ],
      "text/plain": [
       "      northeast  northwest  southeast  southwest\n",
       "0             0          0          0          1\n",
       "1             0          0          1          0\n",
       "2             0          0          1          0\n",
       "3             0          1          0          0\n",
       "4             0          1          0          0\n",
       "...         ...        ...        ...        ...\n",
       "1333          0          1          0          0\n",
       "1334          1          0          0          0\n",
       "1335          0          0          1          0\n",
       "1336          0          0          0          1\n",
       "1337          0          1          0          0\n",
       "\n",
       "[1338 rows x 4 columns]"
      ]
     },
     "execution_count": 17,
     "metadata": {},
     "output_type": "execute_result"
    }
   ],
   "source": [
    "pd.get_dummies(data['region']) # convert categorical data into dummy variables (one hot encoding)"
   ]
  },
  {
   "cell_type": "markdown",
   "metadata": {
    "id": "PpJLMghxwT6A"
   },
   "source": [
    "However, we can't use the data like this because any column can be predicted based on the others. To understand this, consider one customer from one given region. For this customer, if you know the values of the other region columns, automatically you know what is the value for the given region. This phenomenom is called `dummy trap`. Therefore, we need to drop one `region` column ( no matter which ). We can do this using a keyword from `get_dummies()`"
   ]
  },
  {
   "cell_type": "code",
   "execution_count": 18,
   "metadata": {
    "colab": {
     "base_uri": "https://localhost:8080/",
     "height": 205
    },
    "id": "mq-WxsYFxo_h",
    "outputId": "73fc2593-cb4c-49eb-9911-88b20d0c02bb"
   },
   "outputs": [
    {
     "data": {
      "text/html": [
       "<div>\n",
       "<style scoped>\n",
       "    .dataframe tbody tr th:only-of-type {\n",
       "        vertical-align: middle;\n",
       "    }\n",
       "\n",
       "    .dataframe tbody tr th {\n",
       "        vertical-align: top;\n",
       "    }\n",
       "\n",
       "    .dataframe thead th {\n",
       "        text-align: right;\n",
       "    }\n",
       "</style>\n",
       "<table border=\"1\" class=\"dataframe\">\n",
       "  <thead>\n",
       "    <tr style=\"text-align: right;\">\n",
       "      <th></th>\n",
       "      <th>northwest</th>\n",
       "      <th>southeast</th>\n",
       "      <th>southwest</th>\n",
       "    </tr>\n",
       "  </thead>\n",
       "  <tbody>\n",
       "    <tr>\n",
       "      <th>0</th>\n",
       "      <td>0</td>\n",
       "      <td>0</td>\n",
       "      <td>1</td>\n",
       "    </tr>\n",
       "    <tr>\n",
       "      <th>1</th>\n",
       "      <td>0</td>\n",
       "      <td>1</td>\n",
       "      <td>0</td>\n",
       "    </tr>\n",
       "    <tr>\n",
       "      <th>2</th>\n",
       "      <td>0</td>\n",
       "      <td>1</td>\n",
       "      <td>0</td>\n",
       "    </tr>\n",
       "    <tr>\n",
       "      <th>3</th>\n",
       "      <td>1</td>\n",
       "      <td>0</td>\n",
       "      <td>0</td>\n",
       "    </tr>\n",
       "    <tr>\n",
       "      <th>4</th>\n",
       "      <td>1</td>\n",
       "      <td>0</td>\n",
       "      <td>0</td>\n",
       "    </tr>\n",
       "  </tbody>\n",
       "</table>\n",
       "</div>"
      ],
      "text/plain": [
       "   northwest  southeast  southwest\n",
       "0          0          0          1\n",
       "1          0          1          0\n",
       "2          0          1          0\n",
       "3          1          0          0\n",
       "4          1          0          0"
      ]
     },
     "execution_count": 18,
     "metadata": {},
     "output_type": "execute_result"
    }
   ],
   "source": [
    "dum = pd.get_dummies(data['region'], drop_first=True) # convert categorical data into dummy variables (one hot encoding) and drop the first column\n",
    "dum.head() # show the first 5 rows of the data"
   ]
  },
  {
   "cell_type": "markdown",
   "metadata": {
    "id": "h-vwb5_Kxu32"
   },
   "source": [
    "In this case, pandas dropped the column `northeast`.\n",
    "\n",
    "Now we can drop column `region` from the original dataframe and add the dummified dataframe."
   ]
  },
  {
   "cell_type": "code",
   "execution_count": 19,
   "metadata": {
    "colab": {
     "base_uri": "https://localhost:8080/",
     "height": 205
    },
    "id": "xufOY-Cyx7pa",
    "outputId": "bf00dce8-5160-4c7a-87b7-2534a5b24431"
   },
   "outputs": [
    {
     "data": {
      "text/html": [
       "<div>\n",
       "<style scoped>\n",
       "    .dataframe tbody tr th:only-of-type {\n",
       "        vertical-align: middle;\n",
       "    }\n",
       "\n",
       "    .dataframe tbody tr th {\n",
       "        vertical-align: top;\n",
       "    }\n",
       "\n",
       "    .dataframe thead th {\n",
       "        text-align: right;\n",
       "    }\n",
       "</style>\n",
       "<table border=\"1\" class=\"dataframe\">\n",
       "  <thead>\n",
       "    <tr style=\"text-align: right;\">\n",
       "      <th></th>\n",
       "      <th>age</th>\n",
       "      <th>sex</th>\n",
       "      <th>bmi</th>\n",
       "      <th>children</th>\n",
       "      <th>smoker</th>\n",
       "      <th>charges</th>\n",
       "      <th>northwest</th>\n",
       "      <th>southeast</th>\n",
       "      <th>southwest</th>\n",
       "    </tr>\n",
       "  </thead>\n",
       "  <tbody>\n",
       "    <tr>\n",
       "      <th>0</th>\n",
       "      <td>19</td>\n",
       "      <td>0</td>\n",
       "      <td>27.900</td>\n",
       "      <td>0</td>\n",
       "      <td>1</td>\n",
       "      <td>16884.92400</td>\n",
       "      <td>0</td>\n",
       "      <td>0</td>\n",
       "      <td>1</td>\n",
       "    </tr>\n",
       "    <tr>\n",
       "      <th>1</th>\n",
       "      <td>18</td>\n",
       "      <td>1</td>\n",
       "      <td>33.770</td>\n",
       "      <td>1</td>\n",
       "      <td>0</td>\n",
       "      <td>1725.55230</td>\n",
       "      <td>0</td>\n",
       "      <td>1</td>\n",
       "      <td>0</td>\n",
       "    </tr>\n",
       "    <tr>\n",
       "      <th>2</th>\n",
       "      <td>28</td>\n",
       "      <td>1</td>\n",
       "      <td>33.000</td>\n",
       "      <td>3</td>\n",
       "      <td>0</td>\n",
       "      <td>4449.46200</td>\n",
       "      <td>0</td>\n",
       "      <td>1</td>\n",
       "      <td>0</td>\n",
       "    </tr>\n",
       "    <tr>\n",
       "      <th>3</th>\n",
       "      <td>33</td>\n",
       "      <td>1</td>\n",
       "      <td>22.705</td>\n",
       "      <td>0</td>\n",
       "      <td>0</td>\n",
       "      <td>21984.47061</td>\n",
       "      <td>1</td>\n",
       "      <td>0</td>\n",
       "      <td>0</td>\n",
       "    </tr>\n",
       "    <tr>\n",
       "      <th>4</th>\n",
       "      <td>32</td>\n",
       "      <td>1</td>\n",
       "      <td>28.880</td>\n",
       "      <td>0</td>\n",
       "      <td>0</td>\n",
       "      <td>3866.85520</td>\n",
       "      <td>1</td>\n",
       "      <td>0</td>\n",
       "      <td>0</td>\n",
       "    </tr>\n",
       "  </tbody>\n",
       "</table>\n",
       "</div>"
      ],
      "text/plain": [
       "   age  sex     bmi  children  smoker      charges  northwest  southeast  \\\n",
       "0   19    0  27.900         0       1  16884.92400          0          0   \n",
       "1   18    1  33.770         1       0   1725.55230          0          1   \n",
       "2   28    1  33.000         3       0   4449.46200          0          1   \n",
       "3   33    1  22.705         0       0  21984.47061          1          0   \n",
       "4   32    1  28.880         0       0   3866.85520          1          0   \n",
       "\n",
       "   southwest  \n",
       "0          1  \n",
       "1          0  \n",
       "2          0  \n",
       "3          0  \n",
       "4          0  "
      ]
     },
     "execution_count": 19,
     "metadata": {},
     "output_type": "execute_result"
    }
   ],
   "source": [
    "data = data.drop(columns=['region']) # drop the original categorical data\n",
    "data = pd.concat([data,dum], axis = 1) # concatenate the new dummy variables to the original data\n",
    "data.head() # show the first 5 rows of the data"
   ]
  },
  {
   "cell_type": "markdown",
   "metadata": {
    "id": "xvL2mSZ0y1sa"
   },
   "source": [
    "Finally let's reorder the columns"
   ]
  },
  {
   "cell_type": "code",
   "execution_count": 20,
   "metadata": {
    "colab": {
     "base_uri": "https://localhost:8080/"
    },
    "id": "qM7FOfRFy4Kp",
    "outputId": "53f100ed-bfcd-4379-cb30-2ee3fc19d0ae"
   },
   "outputs": [
    {
     "data": {
      "text/plain": [
       "['age',\n",
       " 'sex',\n",
       " 'bmi',\n",
       " 'children',\n",
       " 'smoker',\n",
       " 'charges',\n",
       " 'northwest',\n",
       " 'southeast',\n",
       " 'southwest']"
      ]
     },
     "execution_count": 20,
     "metadata": {},
     "output_type": "execute_result"
    }
   ],
   "source": [
    "list(data.columns) # show the column names of the data in a list"
   ]
  },
  {
   "cell_type": "code",
   "execution_count": 21,
   "metadata": {
    "colab": {
     "base_uri": "https://localhost:8080/",
     "height": 205
    },
    "id": "69uQthSDzCTA",
    "outputId": "147eec2c-d506-43d2-b5e2-0a331de4f555"
   },
   "outputs": [
    {
     "data": {
      "text/html": [
       "<div>\n",
       "<style scoped>\n",
       "    .dataframe tbody tr th:only-of-type {\n",
       "        vertical-align: middle;\n",
       "    }\n",
       "\n",
       "    .dataframe tbody tr th {\n",
       "        vertical-align: top;\n",
       "    }\n",
       "\n",
       "    .dataframe thead th {\n",
       "        text-align: right;\n",
       "    }\n",
       "</style>\n",
       "<table border=\"1\" class=\"dataframe\">\n",
       "  <thead>\n",
       "    <tr style=\"text-align: right;\">\n",
       "      <th></th>\n",
       "      <th>age</th>\n",
       "      <th>sex</th>\n",
       "      <th>bmi</th>\n",
       "      <th>children</th>\n",
       "      <th>smoker</th>\n",
       "      <th>northwest</th>\n",
       "      <th>southeast</th>\n",
       "      <th>southwest</th>\n",
       "      <th>charges</th>\n",
       "    </tr>\n",
       "  </thead>\n",
       "  <tbody>\n",
       "    <tr>\n",
       "      <th>0</th>\n",
       "      <td>19</td>\n",
       "      <td>0</td>\n",
       "      <td>27.900</td>\n",
       "      <td>0</td>\n",
       "      <td>1</td>\n",
       "      <td>0</td>\n",
       "      <td>0</td>\n",
       "      <td>1</td>\n",
       "      <td>16884.92400</td>\n",
       "    </tr>\n",
       "    <tr>\n",
       "      <th>1</th>\n",
       "      <td>18</td>\n",
       "      <td>1</td>\n",
       "      <td>33.770</td>\n",
       "      <td>1</td>\n",
       "      <td>0</td>\n",
       "      <td>0</td>\n",
       "      <td>1</td>\n",
       "      <td>0</td>\n",
       "      <td>1725.55230</td>\n",
       "    </tr>\n",
       "    <tr>\n",
       "      <th>2</th>\n",
       "      <td>28</td>\n",
       "      <td>1</td>\n",
       "      <td>33.000</td>\n",
       "      <td>3</td>\n",
       "      <td>0</td>\n",
       "      <td>0</td>\n",
       "      <td>1</td>\n",
       "      <td>0</td>\n",
       "      <td>4449.46200</td>\n",
       "    </tr>\n",
       "    <tr>\n",
       "      <th>3</th>\n",
       "      <td>33</td>\n",
       "      <td>1</td>\n",
       "      <td>22.705</td>\n",
       "      <td>0</td>\n",
       "      <td>0</td>\n",
       "      <td>1</td>\n",
       "      <td>0</td>\n",
       "      <td>0</td>\n",
       "      <td>21984.47061</td>\n",
       "    </tr>\n",
       "    <tr>\n",
       "      <th>4</th>\n",
       "      <td>32</td>\n",
       "      <td>1</td>\n",
       "      <td>28.880</td>\n",
       "      <td>0</td>\n",
       "      <td>0</td>\n",
       "      <td>1</td>\n",
       "      <td>0</td>\n",
       "      <td>0</td>\n",
       "      <td>3866.85520</td>\n",
       "    </tr>\n",
       "  </tbody>\n",
       "</table>\n",
       "</div>"
      ],
      "text/plain": [
       "   age  sex     bmi  children  smoker  northwest  southeast  southwest  \\\n",
       "0   19    0  27.900         0       1          0          0          1   \n",
       "1   18    1  33.770         1       0          0          1          0   \n",
       "2   28    1  33.000         3       0          0          1          0   \n",
       "3   33    1  22.705         0       0          1          0          0   \n",
       "4   32    1  28.880         0       0          1          0          0   \n",
       "\n",
       "       charges  \n",
       "0  16884.92400  \n",
       "1   1725.55230  \n",
       "2   4449.46200  \n",
       "3  21984.47061  \n",
       "4   3866.85520  "
      ]
     },
     "execution_count": 21,
     "metadata": {},
     "output_type": "execute_result"
    }
   ],
   "source": [
    "new_order = ['age', # create a new list with the column names in the desired order\n",
    " 'sex',\n",
    " 'bmi',\n",
    " 'children',\n",
    " 'smoker',\n",
    " 'northwest',\n",
    " 'southeast',\n",
    " 'southwest',\n",
    " 'charges']\n",
    "\n",
    "data = data[new_order] # reorder the columns as the desired oorder\n",
    "data.head() # show the first 5 rows of the data"
   ]
  },
  {
   "cell_type": "markdown",
   "metadata": {
    "id": "l5ShxXJnzU5v"
   },
   "source": [
    "# Visualizing data"
   ]
  },
  {
   "cell_type": "code",
   "execution_count": 22,
   "metadata": {
    "colab": {
     "base_uri": "https://localhost:8080/",
     "height": 550
    },
    "id": "onWcJLP1zaly",
    "outputId": "81d94653-347f-47a9-d3cd-ea1a48a707ef"
   },
   "outputs": [
    {
     "data": {
      "image/png": "[encoded data removed]",
      "text/plain": [
       "<Figure size 540x540 with 12 Axes>"
      ]
     },
     "metadata": {
      "needs_background": "light"
     },
     "output_type": "display_data"
    }
   ],
   "source": [
    "sns.pairplot(data[['age','bmi','charges']]); # plot the data in a scatter plot matrix with the age, bmi, and charges columns"
   ]
  },
  {
   "cell_type": "markdown",
   "metadata": {
    "id": "nvLt0f4X2JFG"
   },
   "source": [
    "As you can see, the variable `children` was not included in the previous plot. There reason is because `children` is an **ordinal categorical feature**. You can't have 1.5 sons and two is more than one. \n",
    "\n",
    "On the other hand, we can clearly see that the distribution of the three included variables are totally different.\n",
    "\n",
    "The varaible `age` has roughly a **uniform** distribution ( all the possible values are mostly equally likely ), while `bmi` resembles a **normal distribution**. Finally variable `charges` show a highly right skewed distribution which resembles an **exponential decay**. "
   ]
  },
  {
   "cell_type": "markdown",
   "metadata": {
    "id": "_hZL_xZL7m2w"
   },
   "source": [
    "# Summarizing the transformations"
   ]
  },
  {
   "cell_type": "markdown",
   "metadata": {
    "id": "nfoAkGxd7qaz"
   },
   "source": [
    "It's important to gather all the transformations into a single function which can be used later to prepare a dataset."
   ]
  },
  {
   "cell_type": "code",
   "execution_count": 23,
   "metadata": {
    "id": "iaVbPP5B7yhZ"
   },
   "outputs": [],
   "source": [
    "def preprocess(df): \n",
    "    '''\n",
    "    Function to take a dataset and return a cleaned dataset.\n",
    "    Input: Pandas dataframe\n",
    "    Output: Cleaned Pandas dataframe\n",
    "    '''\n",
    "\n",
    "    df2 = df.copy() # create a copy of the dataframe\n",
    "\n",
    "    df2['sex'] = df2['sex'].replace({'male': 1, 'female': 0}) # replace male for 1 amd female for 0 to convert these labels into boolean data\n",
    "    df2['smoker'] = df2['smoker'].replace({'yes':1, 'no': 0}) # replace yes for 1 amd no for 0 to convert these labels into boolean data\n",
    "\n",
    "    df2['northwest'] = 0 # create a new column with all values set to 0\n",
    "    df2['southeast'] = 0 # create a new column with all values set to 0\n",
    "    df2['southwest'] = 0 # create a new column with all values set to 0 \n",
    "\n",
    "    for index, value in enumerate(df2['region']): # for each value in the region column of the dataframe \n",
    "        if ( value == 'northwest'): # if the value is equal to 'northwest'\n",
    "            df2['northwest'][index] = 1 # set the value of the new column to 1\n",
    "        elif ( value == 'southeast' ): # if the value is equal to 'southeast'\n",
    "            df2['southeast'][index] = 1 # set the value of the new column to 1\n",
    "        elif ( value == 'southwest' ): # if the value is equal to 'southwest'\n",
    "            df2['southwest'][index] = 1 # set the value of the new column to 1\n",
    "        else: # if the value is not equal to 'northwest', 'southeast', or 'southwest'\n",
    "            continue # do nothing\n",
    "\n",
    "    df2 = df2.drop(columns = ['region']) # drop the original categorical data column\n",
    "\n",
    "    new_order = ['age', # create a new list with the column names in the desired order\n",
    "        'sex',\n",
    "        'bmi',\n",
    "        'children',\n",
    "        'smoker',\n",
    "        'northwest',\n",
    "        'southeast',\n",
    "        'southwest',\n",
    "        'charges']\n",
    "\n",
    "    df2 = df2[new_order] # reorder the columns as the desired oorder\n",
    "    \n",
    "    return df2 # return the cleaned dataframe"
   ]
  },
  {
   "cell_type": "markdown",
   "metadata": {
    "id": "ZhNYHHnuAdcJ"
   },
   "source": [
    "Let's double check if our function works properly"
   ]
  },
  {
   "cell_type": "code",
   "execution_count": 24,
   "metadata": {
    "colab": {
     "base_uri": "https://localhost:8080/",
     "height": 205
    },
    "id": "9lGV73WuADN6",
    "outputId": "a143f8ce-a57a-4ef4-b871-d64971a3074e"
   },
   "outputs": [
    {
     "data": {
      "text/html": [
       "<div>\n",
       "<style scoped>\n",
       "    .dataframe tbody tr th:only-of-type {\n",
       "        vertical-align: middle;\n",
       "    }\n",
       "\n",
       "    .dataframe tbody tr th {\n",
       "        vertical-align: top;\n",
       "    }\n",
       "\n",
       "    .dataframe thead th {\n",
       "        text-align: right;\n",
       "    }\n",
       "</style>\n",
       "<table border=\"1\" class=\"dataframe\">\n",
       "  <thead>\n",
       "    <tr style=\"text-align: right;\">\n",
       "      <th></th>\n",
       "      <th>age</th>\n",
       "      <th>sex</th>\n",
       "      <th>bmi</th>\n",
       "      <th>children</th>\n",
       "      <th>smoker</th>\n",
       "      <th>region</th>\n",
       "      <th>charges</th>\n",
       "    </tr>\n",
       "  </thead>\n",
       "  <tbody>\n",
       "    <tr>\n",
       "      <th>0</th>\n",
       "      <td>19</td>\n",
       "      <td>female</td>\n",
       "      <td>27.900</td>\n",
       "      <td>0</td>\n",
       "      <td>yes</td>\n",
       "      <td>southwest</td>\n",
       "      <td>16884.92400</td>\n",
       "    </tr>\n",
       "    <tr>\n",
       "      <th>1</th>\n",
       "      <td>18</td>\n",
       "      <td>male</td>\n",
       "      <td>33.770</td>\n",
       "      <td>1</td>\n",
       "      <td>no</td>\n",
       "      <td>southeast</td>\n",
       "      <td>1725.55230</td>\n",
       "    </tr>\n",
       "    <tr>\n",
       "      <th>2</th>\n",
       "      <td>28</td>\n",
       "      <td>male</td>\n",
       "      <td>33.000</td>\n",
       "      <td>3</td>\n",
       "      <td>no</td>\n",
       "      <td>southeast</td>\n",
       "      <td>4449.46200</td>\n",
       "    </tr>\n",
       "    <tr>\n",
       "      <th>3</th>\n",
       "      <td>33</td>\n",
       "      <td>male</td>\n",
       "      <td>22.705</td>\n",
       "      <td>0</td>\n",
       "      <td>no</td>\n",
       "      <td>northwest</td>\n",
       "      <td>21984.47061</td>\n",
       "    </tr>\n",
       "    <tr>\n",
       "      <th>4</th>\n",
       "      <td>32</td>\n",
       "      <td>male</td>\n",
       "      <td>28.880</td>\n",
       "      <td>0</td>\n",
       "      <td>no</td>\n",
       "      <td>northwest</td>\n",
       "      <td>3866.85520</td>\n",
       "    </tr>\n",
       "  </tbody>\n",
       "</table>\n",
       "</div>"
      ],
      "text/plain": [
       "   age     sex     bmi  children smoker     region      charges\n",
       "0   19  female  27.900         0    yes  southwest  16884.92400\n",
       "1   18    male  33.770         1     no  southeast   1725.55230\n",
       "2   28    male  33.000         3     no  southeast   4449.46200\n",
       "3   33    male  22.705         0     no  northwest  21984.47061\n",
       "4   32    male  28.880         0     no  northwest   3866.85520"
      ]
     },
     "execution_count": 24,
     "metadata": {},
     "output_type": "execute_result"
    }
   ],
   "source": [
    "data2 = pd.read_csv(\"data/insurance.csv\") # read the data in the csv file\n",
    "data2.head() # show the first 5 rows of the data"
   ]
  },
  {
   "cell_type": "code",
   "execution_count": 25,
   "metadata": {
    "colab": {
     "base_uri": "https://localhost:8080/",
     "height": 649
    },
    "id": "0lxNj2hu_phr",
    "outputId": "463e7bc2-3134-40df-fe38-43a7346c38c9"
   },
   "outputs": [
    {
     "name": "stderr",
     "output_type": "stream",
     "text": [
      "<ipython-input-23-0704aabcb81a>:23: SettingWithCopyWarning: \n",
      "A value is trying to be set on a copy of a slice from a DataFrame\n",
      "\n",
      "See the caveats in the documentation: https://pandas.pydata.org/pandas-docs/stable/user_guide/indexing.html#returning-a-view-versus-a-copy\n",
      "  df2['southwest'][index] = 1\n",
      "<ipython-input-23-0704aabcb81a>:21: SettingWithCopyWarning: \n",
      "A value is trying to be set on a copy of a slice from a DataFrame\n",
      "\n",
      "See the caveats in the documentation: https://pandas.pydata.org/pandas-docs/stable/user_guide/indexing.html#returning-a-view-versus-a-copy\n",
      "  df2['southeast'][index] = 1\n",
      "<ipython-input-23-0704aabcb81a>:19: SettingWithCopyWarning: \n",
      "A value is trying to be set on a copy of a slice from a DataFrame\n",
      "\n",
      "See the caveats in the documentation: https://pandas.pydata.org/pandas-docs/stable/user_guide/indexing.html#returning-a-view-versus-a-copy\n",
      "  df2['northwest'][index] = 1\n"
     ]
    },
    {
     "data": {
      "text/html": [
       "<div>\n",
       "<style scoped>\n",
       "    .dataframe tbody tr th:only-of-type {\n",
       "        vertical-align: middle;\n",
       "    }\n",
       "\n",
       "    .dataframe tbody tr th {\n",
       "        vertical-align: top;\n",
       "    }\n",
       "\n",
       "    .dataframe thead th {\n",
       "        text-align: right;\n",
       "    }\n",
       "</style>\n",
       "<table border=\"1\" class=\"dataframe\">\n",
       "  <thead>\n",
       "    <tr style=\"text-align: right;\">\n",
       "      <th></th>\n",
       "      <th>age</th>\n",
       "      <th>sex</th>\n",
       "      <th>bmi</th>\n",
       "      <th>children</th>\n",
       "      <th>smoker</th>\n",
       "      <th>northwest</th>\n",
       "      <th>southeast</th>\n",
       "      <th>southwest</th>\n",
       "      <th>charges</th>\n",
       "    </tr>\n",
       "  </thead>\n",
       "  <tbody>\n",
       "    <tr>\n",
       "      <th>0</th>\n",
       "      <td>19</td>\n",
       "      <td>0</td>\n",
       "      <td>27.900</td>\n",
       "      <td>0</td>\n",
       "      <td>1</td>\n",
       "      <td>0</td>\n",
       "      <td>0</td>\n",
       "      <td>1</td>\n",
       "      <td>16884.92400</td>\n",
       "    </tr>\n",
       "    <tr>\n",
       "      <th>1</th>\n",
       "      <td>18</td>\n",
       "      <td>1</td>\n",
       "      <td>33.770</td>\n",
       "      <td>1</td>\n",
       "      <td>0</td>\n",
       "      <td>0</td>\n",
       "      <td>1</td>\n",
       "      <td>0</td>\n",
       "      <td>1725.55230</td>\n",
       "    </tr>\n",
       "    <tr>\n",
       "      <th>2</th>\n",
       "      <td>28</td>\n",
       "      <td>1</td>\n",
       "      <td>33.000</td>\n",
       "      <td>3</td>\n",
       "      <td>0</td>\n",
       "      <td>0</td>\n",
       "      <td>1</td>\n",
       "      <td>0</td>\n",
       "      <td>4449.46200</td>\n",
       "    </tr>\n",
       "    <tr>\n",
       "      <th>3</th>\n",
       "      <td>33</td>\n",
       "      <td>1</td>\n",
       "      <td>22.705</td>\n",
       "      <td>0</td>\n",
       "      <td>0</td>\n",
       "      <td>1</td>\n",
       "      <td>0</td>\n",
       "      <td>0</td>\n",
       "      <td>21984.47061</td>\n",
       "    </tr>\n",
       "    <tr>\n",
       "      <th>4</th>\n",
       "      <td>32</td>\n",
       "      <td>1</td>\n",
       "      <td>28.880</td>\n",
       "      <td>0</td>\n",
       "      <td>0</td>\n",
       "      <td>1</td>\n",
       "      <td>0</td>\n",
       "      <td>0</td>\n",
       "      <td>3866.85520</td>\n",
       "    </tr>\n",
       "    <tr>\n",
       "      <th>...</th>\n",
       "      <td>...</td>\n",
       "      <td>...</td>\n",
       "      <td>...</td>\n",
       "      <td>...</td>\n",
       "      <td>...</td>\n",
       "      <td>...</td>\n",
       "      <td>...</td>\n",
       "      <td>...</td>\n",
       "      <td>...</td>\n",
       "    </tr>\n",
       "    <tr>\n",
       "      <th>1333</th>\n",
       "      <td>50</td>\n",
       "      <td>1</td>\n",
       "      <td>30.970</td>\n",
       "      <td>3</td>\n",
       "      <td>0</td>\n",
       "      <td>1</td>\n",
       "      <td>0</td>\n",
       "      <td>0</td>\n",
       "      <td>10600.54830</td>\n",
       "    </tr>\n",
       "    <tr>\n",
       "      <th>1334</th>\n",
       "      <td>18</td>\n",
       "      <td>0</td>\n",
       "      <td>31.920</td>\n",
       "      <td>0</td>\n",
       "      <td>0</td>\n",
       "      <td>0</td>\n",
       "      <td>0</td>\n",
       "      <td>0</td>\n",
       "      <td>2205.98080</td>\n",
       "    </tr>\n",
       "    <tr>\n",
       "      <th>1335</th>\n",
       "      <td>18</td>\n",
       "      <td>0</td>\n",
       "      <td>36.850</td>\n",
       "      <td>0</td>\n",
       "      <td>0</td>\n",
       "      <td>0</td>\n",
       "      <td>1</td>\n",
       "      <td>0</td>\n",
       "      <td>1629.83350</td>\n",
       "    </tr>\n",
       "    <tr>\n",
       "      <th>1336</th>\n",
       "      <td>21</td>\n",
       "      <td>0</td>\n",
       "      <td>25.800</td>\n",
       "      <td>0</td>\n",
       "      <td>0</td>\n",
       "      <td>0</td>\n",
       "      <td>0</td>\n",
       "      <td>1</td>\n",
       "      <td>2007.94500</td>\n",
       "    </tr>\n",
       "    <tr>\n",
       "      <th>1337</th>\n",
       "      <td>61</td>\n",
       "      <td>0</td>\n",
       "      <td>29.070</td>\n",
       "      <td>0</td>\n",
       "      <td>1</td>\n",
       "      <td>1</td>\n",
       "      <td>0</td>\n",
       "      <td>0</td>\n",
       "      <td>29141.36030</td>\n",
       "    </tr>\n",
       "  </tbody>\n",
       "</table>\n",
       "<p>1338 rows × 9 columns</p>\n",
       "</div>"
      ],
      "text/plain": [
       "      age  sex     bmi  children  smoker  northwest  southeast  southwest  \\\n",
       "0      19    0  27.900         0       1          0          0          1   \n",
       "1      18    1  33.770         1       0          0          1          0   \n",
       "2      28    1  33.000         3       0          0          1          0   \n",
       "3      33    1  22.705         0       0          1          0          0   \n",
       "4      32    1  28.880         0       0          1          0          0   \n",
       "...   ...  ...     ...       ...     ...        ...        ...        ...   \n",
       "1333   50    1  30.970         3       0          1          0          0   \n",
       "1334   18    0  31.920         0       0          0          0          0   \n",
       "1335   18    0  36.850         0       0          0          1          0   \n",
       "1336   21    0  25.800         0       0          0          0          1   \n",
       "1337   61    0  29.070         0       1          1          0          0   \n",
       "\n",
       "          charges  \n",
       "0     16884.92400  \n",
       "1      1725.55230  \n",
       "2      4449.46200  \n",
       "3     21984.47061  \n",
       "4      3866.85520  \n",
       "...           ...  \n",
       "1333  10600.54830  \n",
       "1334   2205.98080  \n",
       "1335   1629.83350  \n",
       "1336   2007.94500  \n",
       "1337  29141.36030  \n",
       "\n",
       "[1338 rows x 9 columns]"
      ]
     },
     "execution_count": 25,
     "metadata": {},
     "output_type": "execute_result"
    }
   ],
   "source": [
    "preprocess(data2) # call the preprocess function on the dataframe to clean it"
   ]
  },
  {
   "cell_type": "markdown",
   "metadata": {
    "id": "ycv7-LqV3aeA"
   },
   "source": [
    "# Data splitting"
   ]
  },
  {
   "cell_type": "markdown",
   "metadata": {
    "id": "gMc2qHro3cSi"
   },
   "source": [
    "Now let's divide the dataframe into independent features and dependent features before doing any transformation."
   ]
  },
  {
   "cell_type": "code",
   "execution_count": 26,
   "metadata": {
    "id": "PjcxL48j39Q1"
   },
   "outputs": [],
   "source": [
    "X = data.drop(columns=['charges']) # create a new dataframe with all the columns except the charges column and assign it to X\n",
    "y = data['charges'] # create series with the charges column and assign it to y"
   ]
  },
  {
   "cell_type": "markdown",
   "metadata": {
    "id": "Dl9TB3H_5LTO"
   },
   "source": [
    "To divide the dataset into `train` and `test` sets we can make use of [train_test_split](https://scikit-learn.org/stable/modules/generated/sklearn.model_selection.train_test_split.html?highlight=train_test_split#sklearn.model_selection.train_test_split) funtion of sklearn."
   ]
  },
  {
   "cell_type": "code",
   "execution_count": 27,
   "metadata": {
    "id": "L8fbJwAY5rwH"
   },
   "outputs": [],
   "source": [
    "from sklearn.model_selection import train_test_split # import train_test_split to split the data into training and testing sets"
   ]
  },
  {
   "cell_type": "code",
   "execution_count": 28,
   "metadata": {
    "id": "cb3ucp6a5xiS"
   },
   "outputs": [],
   "source": [
    "# Fix \"random_state\" value ( the actual value doesn't matter )as otherwise you will get a different split every time you run the code.\n",
    "X_train, X_test, y_train, y_test = train_test_split(X,y, test_size = 0.3, random_state = 24) # Changed the value"
   ]
  },
  {
   "cell_type": "markdown",
   "metadata": {
    "id": "MdFrjiKc6U7X"
   },
   "source": [
    "# Using the scalers/transformers"
   ]
  },
  {
   "cell_type": "markdown",
   "metadata": {
    "id": "wGDUMBLg6bv-"
   },
   "source": [
    "Now it's time to transform the columns. In this case we're going to use the `PowerTransformer()` as usually gives the best possible results.\n",
    "\n",
    "We will handle separatelly the columns on `X` and `y`"
   ]
  },
  {
   "cell_type": "code",
   "execution_count": 29,
   "metadata": {
    "id": "pI05ELQe6ptf"
   },
   "outputs": [],
   "source": [
    "from sklearn.preprocessing import PowerTransformer # import PowerTransformer to transform the data to logarithmic scale"
   ]
  },
  {
   "cell_type": "markdown",
   "metadata": {
    "id": "tVLxYd017Lbb"
   },
   "source": [
    "We create an `object` for the scaler and we fit it with the **train** set. "
   ]
  },
  {
   "cell_type": "code",
   "execution_count": 30,
   "metadata": {
    "colab": {
     "base_uri": "https://localhost:8080/"
    },
    "id": "1w2O4CUq7A55",
    "outputId": "aaba7cb6-a85f-4b05-a483-a551438c94b5"
   },
   "outputs": [
    {
     "data": {
      "text/plain": [
       "PowerTransformer()"
      ]
     },
     "execution_count": 30,
     "metadata": {},
     "output_type": "execute_result"
    }
   ],
   "source": [
    "p_scaler = PowerTransformer() # create a PowerTransformer object to transform the data to logarithmic scale and assign it to p_scaler\n",
    "p_scaler.fit(X_train) # fit the PowerTransformer object to the training data and assign the result to p_scaler"
   ]
  },
  {
   "cell_type": "markdown",
   "metadata": {
    "id": "lMwLFTPhCvGA"
   },
   "source": [
    "Let's save our transformer"
   ]
  },
  {
   "cell_type": "code",
   "execution_count": 31,
   "metadata": {
    "id": "Ia5OYyA5CuJ6"
   },
   "outputs": [],
   "source": [
    "import pickle  # import pickle to save the PowerTransformer object\n",
    "\n",
    "def save_scaler(amount, filename = \"scaler.pkl\"):  # create a function to save the PowerTransformer object\n",
    "    with open(filename, \"wb\") as f: # open the file in binary mode and assign it to f\n",
    "        pickle.dump(amount, f) # save the PowerTransformer object to the file in binary mode"
   ]
  },
  {
   "cell_type": "code",
   "execution_count": null,
   "metadata": {
    "id": "eLLgC32cC6LM"
   },
   "outputs": [],
   "source": [
    "save_scaler(p_scaler, filename = \"p_scaler2.pkl\") # call the save_scaler function to save the PowerTransformer object"
   ]
  },
  {
   "cell_type": "markdown",
   "metadata": {
    "id": "_t5knQsbDCh5"
   },
   "source": [
    "Now it's time to transform our data with the transformer."
   ]
  },
  {
   "cell_type": "code",
   "execution_count": 32,
   "metadata": {
    "colab": {
     "base_uri": "https://localhost:8080/",
     "height": 394
    },
    "id": "_bNMWYhwDJhf",
    "outputId": "fade71cf-57da-4534-80a7-39f1319f6f4a"
   },
   "outputs": [
    {
     "data": {
      "text/html": [
       "<div>\n",
       "<style scoped>\n",
       "    .dataframe tbody tr th:only-of-type {\n",
       "        vertical-align: middle;\n",
       "    }\n",
       "\n",
       "    .dataframe tbody tr th {\n",
       "        vertical-align: top;\n",
       "    }\n",
       "\n",
       "    .dataframe thead th {\n",
       "        text-align: right;\n",
       "    }\n",
       "</style>\n",
       "<table border=\"1\" class=\"dataframe\">\n",
       "  <thead>\n",
       "    <tr style=\"text-align: right;\">\n",
       "      <th></th>\n",
       "      <th>age</th>\n",
       "      <th>sex</th>\n",
       "      <th>bmi</th>\n",
       "      <th>children</th>\n",
       "      <th>smoker</th>\n",
       "      <th>northwest</th>\n",
       "      <th>southeast</th>\n",
       "      <th>southwest</th>\n",
       "    </tr>\n",
       "  </thead>\n",
       "  <tbody>\n",
       "    <tr>\n",
       "      <th>0</th>\n",
       "      <td>-1.106461</td>\n",
       "      <td>0.966377</td>\n",
       "      <td>-0.281688</td>\n",
       "      <td>-1.086656</td>\n",
       "      <td>1.962076</td>\n",
       "      <td>-0.570771</td>\n",
       "      <td>-0.611923</td>\n",
       "      <td>-0.569125</td>\n",
       "    </tr>\n",
       "    <tr>\n",
       "      <th>1</th>\n",
       "      <td>0.359448</td>\n",
       "      <td>-1.034793</td>\n",
       "      <td>0.361749</td>\n",
       "      <td>0.273575</td>\n",
       "      <td>-0.509664</td>\n",
       "      <td>-0.570771</td>\n",
       "      <td>1.634193</td>\n",
       "      <td>-0.569125</td>\n",
       "    </tr>\n",
       "    <tr>\n",
       "      <th>2</th>\n",
       "      <td>0.224785</td>\n",
       "      <td>0.966377</td>\n",
       "      <td>-0.025696</td>\n",
       "      <td>-1.086656</td>\n",
       "      <td>1.962076</td>\n",
       "      <td>-0.570771</td>\n",
       "      <td>-0.611923</td>\n",
       "      <td>1.757082</td>\n",
       "    </tr>\n",
       "    <tr>\n",
       "      <th>3</th>\n",
       "      <td>-0.945169</td>\n",
       "      <td>-1.034793</td>\n",
       "      <td>0.660242</td>\n",
       "      <td>0.936876</td>\n",
       "      <td>-0.509664</td>\n",
       "      <td>-0.570771</td>\n",
       "      <td>-0.611923</td>\n",
       "      <td>1.757082</td>\n",
       "    </tr>\n",
       "    <tr>\n",
       "      <th>4</th>\n",
       "      <td>1.610054</td>\n",
       "      <td>0.966377</td>\n",
       "      <td>-0.795510</td>\n",
       "      <td>0.936876</td>\n",
       "      <td>-0.509664</td>\n",
       "      <td>-0.570771</td>\n",
       "      <td>-0.611923</td>\n",
       "      <td>1.757082</td>\n",
       "    </tr>\n",
       "  </tbody>\n",
       "</table>\n",
       "</div>"
      ],
      "text/plain": [
       "        age       sex       bmi  children    smoker  northwest  southeast  \\\n",
       "0 -1.106461  0.966377 -0.281688 -1.086656  1.962076  -0.570771  -0.611923   \n",
       "1  0.359448 -1.034793  0.361749  0.273575 -0.509664  -0.570771   1.634193   \n",
       "2  0.224785  0.966377 -0.025696 -1.086656  1.962076  -0.570771  -0.611923   \n",
       "3 -0.945169 -1.034793  0.660242  0.936876 -0.509664  -0.570771  -0.611923   \n",
       "4  1.610054  0.966377 -0.795510  0.936876 -0.509664  -0.570771  -0.611923   \n",
       "\n",
       "   southwest  \n",
       "0  -0.569125  \n",
       "1  -0.569125  \n",
       "2   1.757082  \n",
       "3   1.757082  \n",
       "4   1.757082  "
      ]
     },
     "metadata": {},
     "output_type": "display_data"
    },
    {
     "data": {
      "text/html": [
       "<div>\n",
       "<style scoped>\n",
       "    .dataframe tbody tr th:only-of-type {\n",
       "        vertical-align: middle;\n",
       "    }\n",
       "\n",
       "    .dataframe tbody tr th {\n",
       "        vertical-align: top;\n",
       "    }\n",
       "\n",
       "    .dataframe thead th {\n",
       "        text-align: right;\n",
       "    }\n",
       "</style>\n",
       "<table border=\"1\" class=\"dataframe\">\n",
       "  <thead>\n",
       "    <tr style=\"text-align: right;\">\n",
       "      <th></th>\n",
       "      <th>age</th>\n",
       "      <th>sex</th>\n",
       "      <th>bmi</th>\n",
       "      <th>children</th>\n",
       "      <th>smoker</th>\n",
       "      <th>northwest</th>\n",
       "      <th>southeast</th>\n",
       "      <th>southwest</th>\n",
       "    </tr>\n",
       "  </thead>\n",
       "  <tbody>\n",
       "    <tr>\n",
       "      <th>0</th>\n",
       "      <td>-0.121664</td>\n",
       "      <td>-1.034793</td>\n",
       "      <td>1.305374</td>\n",
       "      <td>-1.086656</td>\n",
       "      <td>1.962076</td>\n",
       "      <td>-0.570771</td>\n",
       "      <td>1.634193</td>\n",
       "      <td>-0.569125</td>\n",
       "    </tr>\n",
       "    <tr>\n",
       "      <th>1</th>\n",
       "      <td>1.004362</td>\n",
       "      <td>-1.034793</td>\n",
       "      <td>0.416914</td>\n",
       "      <td>-1.086656</td>\n",
       "      <td>-0.509664</td>\n",
       "      <td>-0.570771</td>\n",
       "      <td>-0.611923</td>\n",
       "      <td>-0.569125</td>\n",
       "    </tr>\n",
       "    <tr>\n",
       "      <th>2</th>\n",
       "      <td>-0.945169</td>\n",
       "      <td>0.966377</td>\n",
       "      <td>2.468423</td>\n",
       "      <td>0.273575</td>\n",
       "      <td>-0.509664</td>\n",
       "      <td>-0.570771</td>\n",
       "      <td>1.634193</td>\n",
       "      <td>-0.569125</td>\n",
       "    </tr>\n",
       "    <tr>\n",
       "      <th>3</th>\n",
       "      <td>0.751666</td>\n",
       "      <td>0.966377</td>\n",
       "      <td>0.660242</td>\n",
       "      <td>0.936876</td>\n",
       "      <td>1.962076</td>\n",
       "      <td>-0.570771</td>\n",
       "      <td>-0.611923</td>\n",
       "      <td>1.757082</td>\n",
       "    </tr>\n",
       "    <tr>\n",
       "      <th>4</th>\n",
       "      <td>0.426008</td>\n",
       "      <td>-1.034793</td>\n",
       "      <td>0.833117</td>\n",
       "      <td>-1.086656</td>\n",
       "      <td>-0.509664</td>\n",
       "      <td>-0.570771</td>\n",
       "      <td>-0.611923</td>\n",
       "      <td>1.757082</td>\n",
       "    </tr>\n",
       "  </tbody>\n",
       "</table>\n",
       "</div>"
      ],
      "text/plain": [
       "        age       sex       bmi  children    smoker  northwest  southeast  \\\n",
       "0 -0.121664 -1.034793  1.305374 -1.086656  1.962076  -0.570771   1.634193   \n",
       "1  1.004362 -1.034793  0.416914 -1.086656 -0.509664  -0.570771  -0.611923   \n",
       "2 -0.945169  0.966377  2.468423  0.273575 -0.509664  -0.570771   1.634193   \n",
       "3  0.751666  0.966377  0.660242  0.936876  1.962076  -0.570771  -0.611923   \n",
       "4  0.426008 -1.034793  0.833117 -1.086656 -0.509664  -0.570771  -0.611923   \n",
       "\n",
       "   southwest  \n",
       "0  -0.569125  \n",
       "1  -0.569125  \n",
       "2  -0.569125  \n",
       "3   1.757082  \n",
       "4   1.757082  "
      ]
     },
     "metadata": {},
     "output_type": "display_data"
    }
   ],
   "source": [
    "X_train_scaled = p_scaler.transform(X_train) # transform the training data to logarithmic scale and assign it to X_train_scaled\n",
    "X_test_scaled  = p_scaler.transform(X_test) # transform the testing data to logarithmic scale and assign it to X_test_scaled\n",
    "\n",
    "X_train_scaled = pd.DataFrame(X_train_scaled, columns = X_train.columns ) # convert the transformed training data to a dataframe and assign it to X_train_scaled\n",
    "X_test_scaled  = pd.DataFrame(X_test_scaled, columns = X_test.columns ) # convert the transformed testing data to a dataframe and assign it to X_test_scaled\n",
    "\n",
    "display(X_train_scaled.head()) # show the first 5 rows of the transformed training data\n",
    "display(X_test_scaled.head()) # show the first 5 rows of the transformed testing data"
   ]
  },
  {
   "cell_type": "markdown",
   "metadata": {
    "id": "asp-YxYyEeh4"
   },
   "source": [
    "# Dependent feature"
   ]
  },
  {
   "cell_type": "markdown",
   "metadata": {
    "id": "KVdYP2l4Eg29"
   },
   "source": [
    "For the dependent feature, as it shows a distribution which seems to follow an exponential decay distribution, we can simply use the logarithm.\n",
    "\n",
    "You may wonder why we didn't include the dependent feature in the scaler for `X` to do all in once. The answer is because in a real scenario, your model will not get `y` values! If you fir your scaler to scale the `X` and the `y` together, when you submit new data to the scaler without `y`it will complain because it will not find the `y`."
   ]
  },
  {
   "cell_type": "code",
   "execution_count": 33,
   "metadata": {
    "colab": {
     "base_uri": "https://localhost:8080/",
     "height": 422
    },
    "id": "szeTzhPrdgpZ",
    "outputId": "48b9ef19-c28d-47cc-9a93-afc76b5d8ba7"
   },
   "outputs": [
    {
     "data": {
      "text/html": [
       "<div>\n",
       "<style scoped>\n",
       "    .dataframe tbody tr th:only-of-type {\n",
       "        vertical-align: middle;\n",
       "    }\n",
       "\n",
       "    .dataframe tbody tr th {\n",
       "        vertical-align: top;\n",
       "    }\n",
       "\n",
       "    .dataframe thead th {\n",
       "        text-align: right;\n",
       "    }\n",
       "</style>\n",
       "<table border=\"1\" class=\"dataframe\">\n",
       "  <thead>\n",
       "    <tr style=\"text-align: right;\">\n",
       "      <th></th>\n",
       "      <th>y_train</th>\n",
       "      <th>y_train_scaled</th>\n",
       "    </tr>\n",
       "  </thead>\n",
       "  <tbody>\n",
       "    <tr>\n",
       "      <th>0</th>\n",
       "      <td>35147.52848</td>\n",
       "      <td>10.467310</td>\n",
       "    </tr>\n",
       "    <tr>\n",
       "      <th>1</th>\n",
       "      <td>7633.72060</td>\n",
       "      <td>8.940331</td>\n",
       "    </tr>\n",
       "    <tr>\n",
       "      <th>2</th>\n",
       "      <td>22144.03200</td>\n",
       "      <td>10.005323</td>\n",
       "    </tr>\n",
       "    <tr>\n",
       "      <th>3</th>\n",
       "      <td>3987.92600</td>\n",
       "      <td>8.291027</td>\n",
       "    </tr>\n",
       "    <tr>\n",
       "      <th>4</th>\n",
       "      <td>14988.43200</td>\n",
       "      <td>9.615034</td>\n",
       "    </tr>\n",
       "    <tr>\n",
       "      <th>...</th>\n",
       "      <td>...</td>\n",
       "      <td>...</td>\n",
       "    </tr>\n",
       "    <tr>\n",
       "      <th>931</th>\n",
       "      <td>5138.25670</td>\n",
       "      <td>8.544469</td>\n",
       "    </tr>\n",
       "    <tr>\n",
       "      <th>932</th>\n",
       "      <td>13981.85035</td>\n",
       "      <td>9.545515</td>\n",
       "    </tr>\n",
       "    <tr>\n",
       "      <th>933</th>\n",
       "      <td>2137.65360</td>\n",
       "      <td>7.667464</td>\n",
       "    </tr>\n",
       "    <tr>\n",
       "      <th>934</th>\n",
       "      <td>2117.33885</td>\n",
       "      <td>7.657915</td>\n",
       "    </tr>\n",
       "    <tr>\n",
       "      <th>935</th>\n",
       "      <td>14418.28040</td>\n",
       "      <td>9.576252</td>\n",
       "    </tr>\n",
       "  </tbody>\n",
       "</table>\n",
       "<p>936 rows × 2 columns</p>\n",
       "</div>"
      ],
      "text/plain": [
       "         y_train  y_train_scaled\n",
       "0    35147.52848       10.467310\n",
       "1     7633.72060        8.940331\n",
       "2    22144.03200       10.005323\n",
       "3     3987.92600        8.291027\n",
       "4    14988.43200        9.615034\n",
       "..           ...             ...\n",
       "931   5138.25670        8.544469\n",
       "932  13981.85035        9.545515\n",
       "933   2137.65360        7.667464\n",
       "934   2117.33885        7.657915\n",
       "935  14418.28040        9.576252\n",
       "\n",
       "[936 rows x 2 columns]"
      ]
     },
     "execution_count": 33,
     "metadata": {},
     "output_type": "execute_result"
    }
   ],
   "source": [
    "y_train_scaled = np.log(y_train) # transform the training data to logarithmic scale and assign it to y_train_scaled\n",
    "y_train_df = pd.DataFrame({'y_train': y_train.values, 'y_train_scaled': y_train_scaled.values}) # convert the transformed training data to a dataframe and assign it to y_train_df\n",
    "y_train_df # show the transformed training data"
   ]
  },
  {
   "cell_type": "code",
   "execution_count": 34,
   "metadata": {
    "colab": {
     "base_uri": "https://localhost:8080/",
     "height": 626
    },
    "id": "ItEizDOGEGkP",
    "outputId": "1e988a6c-0409-43fd-9001-ae9b53fe1179"
   },
   "outputs": [
    {
     "data": {
      "image/png": "[encoded data removed]",
      "text/plain": [
       "<Figure size 1440x720 with 2 Axes>"
      ]
     },
     "metadata": {
      "needs_background": "light"
     },
     "output_type": "display_data"
    }
   ],
   "source": [
    "fig, ax = plt.subplots(nrows =1, ncols = 2, figsize = (20,10)) # create a figure and axes with 1 row and 2 columns with the size of 20 by 10\n",
    "sns.histplot(data=y_train_df,x =\"y_train\", ax = ax[0]); # plot the histogram of the training data and assign it to ax[0]\n",
    "sns.histplot(data=y_train_df,x =\"y_train_scaled\", ax = ax[1]); # plot the histogram of the transformed training data and assign it to ax[1]"
   ]
  },
  {
   "cell_type": "markdown",
   "metadata": {
    "id": "4YRWzCmceV6E"
   },
   "source": [
    "# Training the multiple regression model"
   ]
  },
  {
   "cell_type": "markdown",
   "metadata": {
    "id": "-0m_JS4_eZ1V"
   },
   "source": [
    "Finally, we are ready to train the multiple regression model. In contrast with the previous case, now we will have more than one independent feature. Therefore, we are going to train a model like this:\n",
    "\n",
    "$$\\hat{y_{i}}=\\hat{\\beta_{0}}+\\sum_{col}\\hat{\\beta_{i}}x^{col}$$\n",
    "\n",
    "where $\\hat{\\beta_{0}}$ is called the *intercept*, and the beta's have a caret over them because they will depended on the training set. Remember that the observations in the training set were selected at random. Therefore, each random selection produces a different training set and then the optimal parameter for training set will different."
   ]
  },
  {
   "cell_type": "markdown",
   "metadata": {
    "id": "I2IMZwbsf-38"
   },
   "source": [
    "In order to train a multiple linear model, we can use again sklearn."
   ]
  },
  {
   "cell_type": "code",
   "execution_count": 35,
   "metadata": {
    "id": "9dlS352Af2Mz"
   },
   "outputs": [],
   "source": [
    "from sklearn.linear_model import LinearRegression # import LinearRegression to create a linear regression model"
   ]
  },
  {
   "cell_type": "markdown",
   "metadata": {
    "id": "0YQuhi6wgFJn"
   },
   "source": [
    "As usual, first we nedd to create and linear model `object`."
   ]
  },
  {
   "cell_type": "code",
   "execution_count": 36,
   "metadata": {
    "id": "sCuj2R7igPSR"
   },
   "outputs": [],
   "source": [
    "lm = LinearRegression() # create a LinearRegression object and assign it to lm"
   ]
  },
  {
   "cell_type": "markdown",
   "metadata": {
    "id": "ypRZQQ_pkdd8"
   },
   "source": [
    "Now we train our model using only the **scaled** data from the **train set**. Pay attention to the dependent feature. Here we are training the model to predict the `y_train_scaled`. Therefore, our model will predict **scaled data**. In order to recover the correct predictions, we will have to compute the exponential of the predicted values. This can be done with `np.exp()`."
   ]
  },
  {
   "cell_type": "code",
   "execution_count": 37,
   "metadata": {
    "colab": {
     "base_uri": "https://localhost:8080/"
    },
    "id": "wxkrfwo0kcuO",
    "outputId": "7b7dba63-2010-4343-8e1c-73a4490f7b2a"
   },
   "outputs": [
    {
     "data": {
      "text/plain": [
       "LinearRegression()"
      ]
     },
     "execution_count": 37,
     "metadata": {},
     "output_type": "execute_result"
    }
   ],
   "source": [
    "lm.fit(X_train_scaled,y_train_scaled) # fit the LinearRegression object to the training data and assign the result to lm with the transformed training data and the transformed training labels"
   ]
  },
  {
   "cell_type": "markdown",
   "metadata": {
    "id": "Ef-ZD9L5lbUM"
   },
   "source": [
    "Finally we save our model for later. We can use a function for this in a similar way as we did for saving our scaler"
   ]
  },
  {
   "cell_type": "code",
   "execution_count": 38,
   "metadata": {
    "id": "qkKOh-NklrJ6"
   },
   "outputs": [],
   "source": [
    "def save_model(model, filename = \"lm.pkl\"): # create a function to save the LinearRegression object\n",
    "    with open(filename, \"wb\") as f: # open the file in binary mode and assign it to f\n",
    "        pickle.dump(model, f) # save the LinearRegression object to the file in binary mode"
   ]
  },
  {
   "cell_type": "code",
   "execution_count": null,
   "metadata": {
    "id": "CYmDrWNWlyXP"
   },
   "outputs": [],
   "source": [
    "save_model(lm, filename = \"lm2.pkl\") # call the save_model function to save the LinearRegression object"
   ]
  },
  {
   "cell_type": "markdown",
   "metadata": {
    "id": "XVpv2md00nrr"
   },
   "source": [
    "# Making predictions"
   ]
  },
  {
   "cell_type": "markdown",
   "metadata": {
    "id": "opj_Ea8FxtUv"
   },
   "source": [
    "Now let's see how to make predictions with our model. For this purpose, any sklearn model has the method `predict()` in which we need to provide the independent features. \n",
    "\n",
    "**CAVEAT!!!*** If you trained your model with scaled features, then you will need to feed the `predict()` method with scaled features."
   ]
  },
  {
   "cell_type": "code",
   "execution_count": 39,
   "metadata": {
    "id": "rw4ZItHm0nrr"
   },
   "outputs": [],
   "source": [
    "y_train_pred = lm.predict(X_train_scaled) # predict the transformed training labels and assign it to y_train_pred\n",
    "y_test_pred  = lm.predict(X_test_scaled) # predict the transformed testing labels and assign it to y_test_pred"
   ]
  },
  {
   "cell_type": "markdown",
   "metadata": {
    "id": "bjIkpjJMyZbU"
   },
   "source": [
    "However, remember that the method was trained to predict **the logarithm of the customer charges!!!** You can compare the predicted values by the model straight away. You will need first to undo the transformation. As we trained the model to predict the logarithm, we will have to take the exponential to recover the predicted values in the original units."
   ]
  },
  {
   "cell_type": "code",
   "execution_count": 40,
   "metadata": {
    "colab": {
     "base_uri": "https://localhost:8080/"
    },
    "id": "7DDtVcMp0nrs",
    "outputId": "f5382818-6c66-41b5-cc0e-91018f1c8814"
   },
   "outputs": [
    {
     "data": {
      "text/plain": [
       "array([16016.20017481,  8412.74398699, 26962.87462761,  4851.35846262,\n",
       "       13938.22736485, 12493.91601077,  5331.81390721,  4653.155464  ,\n",
       "       12335.31191268,  4170.62971938, 13657.83022027, 10132.89625668,\n",
       "        3868.60399793,  6804.97437479,  5180.414595  , 13957.69348161,\n",
       "        3665.05745915,  3702.17160594, 30836.45737174,  3744.42083483,\n",
       "       10759.01107575,  3413.59843847, 13984.46820556, 40386.82131602,\n",
       "        5251.32235072,  5100.72978113,  8018.872747  ,  9176.87683843,\n",
       "       26722.06592026,  5340.05689729, 12943.23500512,  3150.18266502,\n",
       "        8277.3515073 ,  4995.2048586 ,  4894.61117323, 15990.91648806,\n",
       "        6479.6564116 ,  9154.03860108,  2176.6561835 ,  4833.75870177,\n",
       "        7996.99681118, 25052.219342  ,  6697.81045728,  8614.01634576,\n",
       "       10497.28132104,  5426.22922455, 24935.31037112, 29875.47551353,\n",
       "        6013.80523397,  9597.08815474,  6813.52427032, 12880.70071579,\n",
       "       17009.29915726,  2617.15254465,  9062.25650957, 58123.72527311,\n",
       "       19158.46339455, 11216.83266723, 11374.57958358,  4703.70955512,\n",
       "        7832.04957496, 11094.79468058, 41508.35717827,  3465.73291673,\n",
       "       37518.08097671, 16213.76742058, 55831.51086252,  2918.58862947,\n",
       "       10740.9251907 , 52690.12083213, 33721.85343839,  8645.53258418,\n",
       "       10113.66889974,  8113.53780596, 10246.77774151, 12391.35526907,\n",
       "       24414.95021472,  8250.77467944,  5212.49543775,  3554.95952996,\n",
       "        3969.84509072, 14344.51153389,  8732.11074796,  3074.69213521,\n",
       "       11898.28527852,  8439.39559394, 14305.41305416, 10490.83145498,\n",
       "       12200.18258523,  3490.59030296,  3016.92215348,  3758.65604447,\n",
       "       15239.81787367,  5559.72636305, 14493.19245744,  7516.47313578,\n",
       "        5267.52566428, 13380.40263359, 10153.38986823, 49465.88403604,\n",
       "        4707.27717565,  9958.22507871, 10727.89313191,  5925.54963563,\n",
       "        4131.09237874,  5994.05975877, 38533.64820538, 29386.80853887,\n",
       "       27623.2845284 , 17163.9791938 , 23536.86128764,  3016.92215348,\n",
       "        4029.04665841, 44424.34792344, 18402.95843135,  8393.64443148,\n",
       "       41353.46527336, 11404.01362599, 15165.16134616,  3287.15310957,\n",
       "        2584.12444472,  4925.49796198, 36545.01481055,  5372.24515174,\n",
       "        6328.15493331,  5806.53749451,  3747.91653199,  7344.17181655,\n",
       "        5341.96279958, 34378.10508359, 11200.15586313,  2791.23263227,\n",
       "       12774.88681596, 11924.27744177,  5178.729764  ,  8423.94985433,\n",
       "        3208.3947993 ,  7972.86451814,  9679.15347602,  9795.49813003,\n",
       "        9861.81377766,  7051.70204598,  2990.06260303,  3319.76969351,\n",
       "        3696.41315653, 10561.20207791,  2478.2165287 ,  2664.00821029,\n",
       "        8088.93309506, 13896.13999273,  5137.30325425,  6560.1943532 ,\n",
       "        2862.67677467, 11939.0436338 ,  8278.07650959,  2415.21715639,\n",
       "       11058.63433589, 28201.65176392, 12559.11769109,  7403.16102437,\n",
       "        7253.42450329, 15839.30825981, 19616.24262979, 12540.05553069,\n",
       "        4602.22430356,  7657.69093851, 11440.25971038, 14424.82993932,\n",
       "       21653.22662036, 11733.14017058, 11376.24911825,  4644.39129598,\n",
       "       10937.56418364,  6582.73116079, 30521.00092011,  3010.1162405 ,\n",
       "        5453.56176058,  4030.45495944, 36812.14896529,  8880.5380927 ,\n",
       "        3316.29638098,  7622.99301673,  4227.91570367,  8660.71490913,\n",
       "        7706.06099993, 12908.64372192,  2210.6106443 ,  7425.68256358,\n",
       "        8217.38745266, 10213.99163257,  6251.38896208, 30972.94352645,\n",
       "        3184.17188735,  4555.26555859,  7252.10421434, 10229.15578525,\n",
       "        2850.71507622, 11452.41187865,  3118.35344674, 52335.26894732,\n",
       "        7415.13016426, 36876.95936025,  5483.95782613,  6204.93723136,\n",
       "       19559.08907275, 12266.97617198, 11865.47638935, 19588.55835209,\n",
       "        2416.77188327,  5286.00274529, 19259.08007237, 12498.49152205,\n",
       "        3240.37480261,  5468.66906509,  8478.351186  ,  8319.19723026,\n",
       "        5461.91070652,  4719.15170797, 76590.58857279, 12959.01197969,\n",
       "        9777.19953346,  2907.67383832,  5049.3249247 ,  5075.63377206,\n",
       "        3744.33100371,  9639.96812053,  3224.52894754,  3738.13150997,\n",
       "        3802.68583098, 10652.64564922, 27933.46166865, 25310.66697097,\n",
       "       12678.757625  , 12812.7014751 ,  5473.43617678,  4749.76803155,\n",
       "        6888.65908796,  4221.20911896, 10634.82366661, 11541.9618907 ,\n",
       "        7088.0211323 , 10319.4215411 , 11504.88416869,  5514.62325871,\n",
       "       45153.7404244 , 11120.32478238, 31069.49199741,  2101.48646722,\n",
       "        2777.75059929,  2793.82131904,  9827.87761796, 37692.43352004,\n",
       "       13912.22153289,  9639.87468449,  7269.28352973, 10018.04361063,\n",
       "        7420.19527952, 11184.35669614, 14022.9604556 ,  2612.09000576,\n",
       "        6914.94297315,  8798.99834423, 13025.24724296, 33485.80736943,\n",
       "        6018.03583828, 74461.72102544,  4057.45481672,  2991.62973224,\n",
       "        3021.49293926,  2528.70501113,  6433.92012588, 15225.01451993,\n",
       "        7744.07304127,  7095.99881117, 38341.78418126, 10245.6467555 ,\n",
       "       56577.37491106, 13500.82010395, 10332.75584633, 23002.97575616,\n",
       "        3316.4585122 ,  5675.11599186,  2799.56686318, 23975.68059534,\n",
       "       18970.44106804, 10974.61047458,  2177.12838573,  4118.0935874 ,\n",
       "       27082.23015632, 11660.75156329,  7749.16860005,  3388.56568527,\n",
       "       47974.55551334, 30371.17246803,  6757.71545315, 17500.36265281,\n",
       "       54954.90290665, 12742.78482051, 36682.20857839, 25093.25116931,\n",
       "       14242.20049659, 23012.79402571,  5000.43983809,  3034.48163287,\n",
       "        3024.46530171, 12602.30908092,  8354.26908324,  7263.02076065,\n",
       "        2631.54728947, 23411.96187378,  4273.44879904, 25524.24224846,\n",
       "        2605.77780141, 10842.58752359,  3512.94408264,  5468.93457033,\n",
       "        8809.88742094, 12525.24136223, 54137.61089165,  9616.47355269,\n",
       "        5168.35216577,  3098.74881706, 54730.59546276, 12267.21155298,\n",
       "        7557.22132822,  6547.50321988,  2116.70695526, 12627.8603041 ,\n",
       "        3306.2458952 ,  6505.56526955,  6956.5739484 ,  8161.33247745,\n",
       "       56601.5398044 ,  7596.89637046, 12576.51769441,  3378.93900561,\n",
       "       29459.6782045 , 40268.52110317,  9179.21179807,  8021.0983151 ,\n",
       "       15246.73463874,  5336.39994666,  7132.73067969, 18983.14906843,\n",
       "        3535.03813296, 14986.30899936, 17915.37916782,  2950.14953263,\n",
       "        5820.45814941,  2973.81159016,  5740.33148648, 11269.58387005,\n",
       "       52520.28884463,  3478.37032035,  2501.78946628,  7772.86430712,\n",
       "        6148.52582112,  4698.25953875, 28106.1490717 ,  3622.3558604 ,\n",
       "        5863.51242595,  7969.24033865,  4109.56509457, 13433.89612427,\n",
       "       72600.51535728, 29418.89584069,  2665.36203101, 15823.97138532,\n",
       "       38562.9165652 ,  9823.72167286,  8859.28632424, 11994.5839237 ,\n",
       "        7198.64224671, 53798.19527274, 10770.19642245,  3016.92525142,\n",
       "       57559.7899549 , 10177.2400034 , 56008.94234214, 16566.03134823,\n",
       "        7254.4417929 , 13686.28682024, 22485.32828446, 12209.96529832,\n",
       "        3710.91489721,  5217.30450041, 38270.65839435, 13878.92091533,\n",
       "        9450.17329372, 25426.03915154,  2763.34759257, 11035.04183805,\n",
       "        2754.7378576 ,  7051.12809068, 14750.33420454,  7027.64429428,\n",
       "       11055.60493537,  9561.22950155,  5624.00840667,  7772.47233559,\n",
       "       33707.7974305 , 26235.87845287,  4249.41404606, 40785.88439354,\n",
       "        2731.49098166,  9295.62454872,  2479.82685528, 13275.62328824,\n",
       "        2930.65669549,  9230.77796789,  9055.0742051 ,  3119.22493089,\n",
       "       13209.51550473,  3473.58018234, 26957.21922924,  4529.72557377,\n",
       "       42081.20696275, 13059.74702536, 52303.71576349,  6575.97261578,\n",
       "       11055.27234303, 10969.93606901, 12995.4926993 ,  5295.26618567,\n",
       "       14562.77442291, 12052.3900771 ,  9276.0035087 ,  6664.13342668,\n",
       "        2359.08703375, 10252.68243362,  7162.78473764, 13576.80586198,\n",
       "       11394.60489709, 11422.69884309,  8724.06499238,  5553.01357215,\n",
       "       15261.10237294,  7867.99379215, 10873.26911687,  8770.9911299 ,\n",
       "        5480.83943838, 51797.3170809 , 11312.37061613,  3674.12041248,\n",
       "        2975.40286045,  6014.34817799, 11575.01096051, 12817.2814334 ,\n",
       "       10839.97225522,  8604.45833048,  5206.48018163, 10851.52925668,\n",
       "        5776.16664465, 12952.9151881 ,  8821.65691247,  7324.15725355,\n",
       "       10537.03032571,  3098.76088302, 13515.80306843,  2882.39814363,\n",
       "        5344.94304934,  3248.10435125, 63256.04412592,  7082.27806475,\n",
       "        3381.84649453,  8178.77257649, 12269.71673196, 13529.34714629,\n",
       "       19368.36679407, 33682.22879343,  4087.18249001, 11078.29285043,\n",
       "       16649.48395565,  8192.02688628, 30652.90497492, 45770.01495576,\n",
       "        9519.80266811,  7537.06246412,  9371.03801201,  3227.05586566,\n",
       "        3385.21409165,  3608.61030835, 11079.4425434 ,  3025.53992893,\n",
       "       14496.93116406,  9325.91686391,  2680.19972365,  6093.83118995,\n",
       "        4415.58596587,  5315.23520978,  6439.02787103,  3769.89371372,\n",
       "       21632.17576914, 10478.78296504,  6959.52934825,  7445.62249043,\n",
       "        7221.33927749,  9344.30598377, 36910.60579885, 13037.09544989,\n",
       "       49638.06990873, 13352.34425458,  8380.70338573,  5200.05264281,\n",
       "        7714.0820927 ,  4811.66303618, 13438.2314664 ,  3115.4119376 ,\n",
       "        8217.96750013,  8455.84346859,  5610.23239439,  6827.77186116,\n",
       "       16593.06511637, 20484.25014849,  5222.35726963, 18485.91527441,\n",
       "        2629.46282079,  8419.15181303,  6732.9623688 ,  5718.1312889 ,\n",
       "        8139.30495331, 13491.76201593,  2711.68090105,  3372.23918263,\n",
       "        4106.093443  , 11822.55726955, 12392.46165524,  2462.89982037,\n",
       "       13467.93531772,  7173.54330716, 11218.88639652,  8462.55995781,\n",
       "       20167.27561918, 12282.77643623,  3194.32665262,  2877.64416955,\n",
       "        4214.63241488, 11778.26558054,  4341.01643085, 10679.8402092 ,\n",
       "        6373.73745669, 14899.9767692 ,  7894.21175688, 10472.81209081,\n",
       "        8883.98614153, 20859.39931022,  2628.27656497,  2731.19456742,\n",
       "        3599.35806032, 18074.91816585,  9981.54200989, 66623.55841174,\n",
       "       11076.63003827, 22195.02353658,  3182.86258576,  9419.46222515,\n",
       "       15101.09932882,  6013.7452041 ,  2461.49768273,  5699.46822495,\n",
       "       14159.5873349 ,  4755.26947725,  2659.04015425, 10896.49983296,\n",
       "        5127.13922405,  3887.88115543, 10859.31479978,  5912.80308126,\n",
       "       18745.9366704 , 11150.80430059,  4988.64381252, 12335.22271593,\n",
       "        3559.16849527, 31851.83593857, 43145.42315272, 11253.62513836,\n",
       "       50396.94151816,  2643.04920292,  4821.27661218, 13279.04591333,\n",
       "        4943.46531593,  9146.2813125 , 10681.99194825,  8394.33868559,\n",
       "       12790.97174993,  7518.346087  , 14088.27637313,  5420.89615179,\n",
       "        2833.0868293 ,  9716.14900359,  7196.80889561,  3881.22555743,\n",
       "       11886.53241036, 10458.99798327,  8218.8896891 ,  7274.06574515,\n",
       "        6901.52416699,  3600.22074859, 28172.03776936,  2638.02334451,\n",
       "       13415.59218685,  2991.93238876,  6636.39701539, 15998.21315495,\n",
       "        8257.25711201, 15646.21486524, 10666.50657019,  8168.03257416,\n",
       "        6171.82844528, 13662.90197258, 17794.83573552, 13641.52793953,\n",
       "       11979.11944471,  7794.37806282,  2907.67383832,  7382.8561731 ,\n",
       "        5291.35672708,  6655.97719447, 14262.87828878,  9503.23638329,\n",
       "       11470.33289338, 13347.67073809, 10015.32282125,  9620.9365019 ,\n",
       "       16892.28680497,  4395.83327994, 10876.64271744,  9646.03312594,\n",
       "        3294.31644403, 23966.97495698,  3113.8665367 , 11598.36010792,\n",
       "       14741.70782135, 46822.36522854, 13939.73503322, 35199.90540391,\n",
       "        5044.58208589, 60693.42850309,  7392.14344013,  7501.00713543,\n",
       "       72446.54218086, 61210.4611932 ,  6367.64589646, 27713.15472333,\n",
       "       11836.96407301, 15052.43265153, 16217.55637854, 45771.14580991,\n",
       "       12048.16076443,  8165.57932175,  8705.29045131, 10618.49884845,\n",
       "       13054.10603411,  5936.31216174, 29924.38488772,  2694.61526472,\n",
       "       14310.59377592,  3423.66335678,  6126.75705253,  2787.77418638,\n",
       "        3409.11390575, 33524.37772134,  2148.06947974, 11129.10958975,\n",
       "        7130.02803394, 10704.8682539 , 33442.10148142, 10229.61559799,\n",
       "        3811.25607164, 12049.5571443 ,  4623.64761933,  3599.46720394,\n",
       "        9775.08331355, 39162.32631418, 11683.70096003,  3160.92646323,\n",
       "       48384.2731424 ,  4429.19103059,  4467.35125893, 48649.19998857,\n",
       "       54362.55749884,  3072.02356178, 12871.9347973 ,  3622.29624428,\n",
       "        2794.75571275, 49305.09152947,  8200.07782909,  4985.92802537,\n",
       "        6965.11029158, 57290.0195448 ,  5142.65937572,  5921.89144686,\n",
       "       19763.33780215,  6937.37090271, 63268.42726227,  8583.49869519,\n",
       "        3165.01389831,  9580.44996447, 11746.38666038, 18405.38694565,\n",
       "        2933.37325318,  2849.23208478,  7342.02438434, 11917.54520199,\n",
       "        2781.40063177,  8403.292167  , 12416.11569899, 10684.91647387,\n",
       "       38477.48180085,  8057.51391474, 13023.32091051,  2908.60797799,\n",
       "        6979.50713517, 38593.45191583, 12045.93097544,  4736.54809062,\n",
       "       11306.00952121,  6524.01222149,  4716.62135812,  3343.76280519,\n",
       "       13111.30200478,  9958.99810339, 41164.54218971,  4071.32674   ,\n",
       "        6340.86798101, 12469.60569289,  2293.61942852, 55601.90547485,\n",
       "        4607.53167441, 11284.46993275,  9921.57282125,  4836.07595267,\n",
       "       10234.85271183,  7348.18378818, 14116.18122742, 72757.91668372,\n",
       "        4152.43004255, 12674.60344564, 12001.55245988,  6371.9251005 ,\n",
       "       74038.20301821,  2949.43374078,  8317.27812598, 13361.40734615,\n",
       "       10353.06537197, 13486.22429543,  8885.08225694,  7012.52297182,\n",
       "       11696.05677359,  9000.6659456 ,  4336.29963119, 24978.54857336,\n",
       "        8092.42649483,  3545.69882746, 12982.63835824,  2223.68149291,\n",
       "        2324.28227101,  5612.69493291,  9583.5315144 , 25021.08469651,\n",
       "        4533.80393687,  5093.06163599, 13065.6692734 ,  4527.21505522,\n",
       "        5402.77607233,  2984.91074586, 10647.46961445,  2965.19607086,\n",
       "       26944.27975831,  6283.5171981 ,  3342.94032943,  6488.96947645,\n",
       "        3745.53522736,  9782.18996467,  9910.93473437,  4212.59352456,\n",
       "        2967.73350951, 11076.91607397,  3062.80899865, 20089.18042369,\n",
       "        2970.8868156 , 16391.36007948,  6745.79249101,  6331.63930205,\n",
       "       32242.59500027,  5018.13518041, 10091.01825607,  7414.0869714 ,\n",
       "       11316.81137403, 15466.77598387,  2964.12550405,  8194.52671178,\n",
       "       44945.92892206, 24952.35484267,  8527.68096812, 12431.83106318,\n",
       "       13666.63964209, 59761.47075009,  7520.62339914, 15695.07105571,\n",
       "       44742.48214824, 61259.28097864, 14823.39484698, 13745.833968  ,\n",
       "        2963.72241115,  2667.84547095,  7102.62953795,  4809.73898431,\n",
       "        4336.49151184,  8084.0647347 ,  8596.94321252, 35107.10863997,\n",
       "       12785.17355729, 35430.99949809, 13644.31709814,  4618.79836777,\n",
       "       17154.51068107, 19238.72896025,  8881.02709147, 44318.11051966,\n",
       "       10186.6315593 ,  8135.88408305,  9705.48479951, 11385.64426192,\n",
       "        3402.94318276, 14490.88332613,  3202.7802983 ,  8658.10006693,\n",
       "        7057.46890637,  4510.0256213 ,  6773.52349636,  4756.38215799,\n",
       "        2905.12887457,  9001.096057  , 48443.08273581, 31085.38009369,\n",
       "        9274.97109049, 12085.13690739, 21619.5144062 ,  3489.56071605,\n",
       "        8715.2732869 ,  2540.52792811, 18909.99349155,  7440.54488507,\n",
       "       64198.54513687,  7210.93267903, 16871.96305364,  9390.6846331 ,\n",
       "        7999.62306862, 10917.32950592,  7016.14503526, 15230.98905468,\n",
       "       38265.11881282, 18096.00711577,  2269.89104783,  9928.77483104,\n",
       "       14938.02322572,  5917.30664854, 12168.93495809,  5135.1851259 ,\n",
       "        6612.72969364,  3075.39817555,  5102.0207979 ,  4391.68380921,\n",
       "        6013.51443776,  7163.01345263, 12727.49252234,  6700.5163229 ,\n",
       "        8350.72916999, 10553.70472675, 80881.72869204,  2375.84352706,\n",
       "        7181.68000229,  7548.51246494,  2680.19972365,  9375.39606709,\n",
       "       17046.59524087, 13020.95976977,  4897.81383264,  2738.22601921,\n",
       "       11899.20981019, 14048.62723183,  4334.26875553,  4065.57916465,\n",
       "        6522.03956836, 15286.19718888,  4589.7410121 , 11150.76401745,\n",
       "       16532.13312164, 11602.39830796, 11518.22993784,  8886.78962498,\n",
       "        4085.62981991,  3907.74543917, 11227.88419196,  4111.92555248,\n",
       "       41282.92123919, 13005.11836284,  7724.46683935,  2806.26444515,\n",
       "       43694.31318945,  5947.36903007, 13927.86712606, 14563.37235202,\n",
       "        2851.97476639,  3610.04891801,  3099.45024228,  8801.57883164,\n",
       "        7006.77200124, 16248.1027149 ,  9225.70161582, 37988.20192742,\n",
       "       10433.94036278,  8089.82656963, 30163.02036156, 33684.01940394,\n",
       "        8318.04360001,  7270.29456097,  5221.31159185,  4928.59247208,\n",
       "        3206.25450872,  5601.29213087, 14359.01454825, 13035.43854242,\n",
       "       29333.12508143, 12664.12268116,  4388.87780401, 11205.04009093,\n",
       "       40743.95404052, 11014.93718965,  6920.76670365,  6167.66037897,\n",
       "       14733.22148382,  2992.51504857,  2556.66575773, 15840.89646751])"
      ]
     },
     "execution_count": 40,
     "metadata": {},
     "output_type": "execute_result"
    }
   ],
   "source": [
    "y_train_pred_real = np.exp(y_train_pred) # transform the predicted training labels back to real values and assign it to y_train_pred_real\n",
    "y_test_pred_real  = np.exp(y_test_pred) # transform the predicted testing labels back to real values and assign it to y_test_pred_real\n",
    "y_train_pred_real # show the predicted training labels"
   ]
  },
  {
   "cell_type": "markdown",
   "metadata": {
    "id": "bAftgYX8zYin"
   },
   "source": [
    "As you can see, `np.exp()` returns a numpy array. "
   ]
  },
  {
   "cell_type": "markdown",
   "metadata": {
    "id": "jbUbis5V7Ffx"
   },
   "source": [
    "# Getting the coefficients"
   ]
  },
  {
   "cell_type": "markdown",
   "metadata": {
    "id": "8uJCzji57KC1"
   },
   "source": [
    "Now we would like to know the $\\hat{\\beta_{i}}$ values. We can obtain them, with."
   ]
  },
  {
   "cell_type": "code",
   "execution_count": 41,
   "metadata": {
    "colab": {
     "base_uri": "https://localhost:8080/"
    },
    "id": "2kC3OF_a7TsD",
    "outputId": "b284d305-8ba8-4560-bb34-16610c190cc9"
   },
   "outputs": [
    {
     "data": {
      "text/plain": [
       "array([ 0.49604318, -0.04100977,  0.08933999,  0.12024496,  0.61556761,\n",
       "       -0.03768807, -0.06793841, -0.06979858])"
      ]
     },
     "execution_count": 41,
     "metadata": {},
     "output_type": "execute_result"
    }
   ],
   "source": [
    "lm.coef_ # show the coefficients of the linear regression model"
   ]
  },
  {
   "cell_type": "markdown",
   "metadata": {
    "id": "3U_jHJ7c7fhY"
   },
   "source": [
    "Each coeficient corresponds to each independent variable. Therefore..."
   ]
  },
  {
   "cell_type": "code",
   "execution_count": 42,
   "metadata": {
    "colab": {
     "base_uri": "https://localhost:8080/"
    },
    "id": "Tjw5z14-79o5",
    "outputId": "9ea60d40-1603-4355-8ba4-ce8f89a80b47"
   },
   "outputs": [
    {
     "data": {
      "text/plain": [
       "[(0.6155676135761138, 'smoker'),\n",
       " (0.4960431793116082, 'age'),\n",
       " (0.12024495937616046, 'children'),\n",
       " (0.08933999043186429, 'bmi'),\n",
       " (0.06979858329587459, 'southwest'),\n",
       " (0.06793841235598444, 'southeast'),\n",
       " (0.04100976803780425, 'sex'),\n",
       " (0.03768806647147566, 'northwest')]"
      ]
     },
     "execution_count": 42,
     "metadata": {},
     "output_type": "execute_result"
    }
   ],
   "source": [
    "coefficients = [] # create a list to store the coefficients of the linear regression model\n",
    "\n",
    "for index, value in enumerate(X_train.columns): # loop through the columns of the training data\n",
    "    coefficients.append((np.abs(lm.coef_[index]),value)) # append the absolute value of the coefficient and the column name to the list\n",
    "\n",
    "coefficients.sort(reverse=True) # sort the list in descending order\n",
    "coefficients # show the sorted list"
   ]
  },
  {
   "cell_type": "markdown",
   "metadata": {
    "id": "8-vIJTC88eFL"
   },
   "source": [
    "According to the absolute value, we can clearly see that the most relevant variables to predict the customer charges are:\n",
    "\n",
    "* smoker\n",
    "* sex\n",
    "* children\n",
    "\n",
    "as they have the highest absolute values"
   ]
  },
  {
   "cell_type": "markdown",
   "metadata": {
    "id": "7rtZaAMU_GGn"
   },
   "source": [
    "Finally ,we can get the intercept with."
   ]
  },
  {
   "cell_type": "code",
   "execution_count": 43,
   "metadata": {
    "colab": {
     "base_uri": "https://localhost:8080/"
    },
    "id": "9mzBabIV_JIU",
    "outputId": "7444218d-6182-41d4-b89a-4cf789ceb544"
   },
   "outputs": [
    {
     "data": {
      "text/plain": [
       "9.115071670174284"
      ]
     },
     "execution_count": 43,
     "metadata": {},
     "output_type": "execute_result"
    }
   ],
   "source": [
    "lm.intercept_ # show the intercept of the linear regression model"
   ]
  },
  {
   "cell_type": "markdown",
   "metadata": {},
   "source": [
    "* Compare the new coefficients of the model with the old ones obtained in the code along\n",
    "\n",
    "```\n",
    "Old coeficients:\n",
    "array([ 0.48616037, -0.03823913,  0.08677916,  0.10821631,  0.6305174 ,\n",
    "       -0.03051781, -0.07136718, -0.05407714])\n",
    "\n",
    "Old intercept:\n",
    "9.109006822397197\n",
    "\n",
    "New coeficients:\n",
    "array([ 0.49604318, -0.04100977,  0.08933999,  0.12024496,  0.61556761,\n",
    "       -0.03768807, -0.06793841, -0.06979858])\n",
    "\n",
    "New intercept:\n",
    "9.115071670174284\n",
    "\n",
    "They have changed because the sample is different, even though the change is small.\n",
    "This shows us two things:\n",
    "    - the model depends on the sample!!!\n",
    "    - this particular model seems to be quite robust as the coeficients doesn't change too much\n",
    "    - more and more samples should be drawn to perform an statistical analysis of the estimated coeficients\n",
    "```\n",
    "\n",
    " * Are the most important variables the same? \n",
    "\n",
    " ```\n",
    " Yes\n",
    " ```\n",
    "\n",
    " * Are the associated coefficients the same as the obtained during the lesson?\n",
    "\n",
    " ```\n",
    " Of course not for **this particular case!!!**\n",
    " ```"
   ]
  },
  {
   "cell_type": "code",
   "execution_count": null,
   "metadata": {},
   "outputs": [],
   "source": []
  }
 ],
 "metadata": {
  "colab": {
   "name": "Code_Along_Linear_regression.ipynb",
   "provenance": [],
   "toc_visible": true
  },
  "kernelspec": {
   "display_name": "Python 3",
   "language": "python",
   "name": "python3"
  },
  "language_info": {
   "codemirror_mode": {
    "name": "ipython",
    "version": 3
   },
   "file_extension": ".py",
   "mimetype": "text/x-python",
   "name": "python",
   "nbconvert_exporter": "python",
   "pygments_lexer": "ipython3",
   "version": "3.8.8"
  }
 },
 "nbformat": 4,
 "nbformat_minor": 1
}
